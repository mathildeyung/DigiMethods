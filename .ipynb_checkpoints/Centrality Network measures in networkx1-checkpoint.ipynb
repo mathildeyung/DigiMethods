{
 "cells": [
  {
   "cell_type": "markdown",
   "metadata": {},
   "source": [
    "# Network measures in networkx\n",
    "\n",
    "In this notebook we will calculate some relevant network measures on a retweet Twitter network, espacially centrality meseasures. We will focus on the actor level, on Tuesday(28/4) we will concentrate on calculating features of whole networks. You can finde more about how networkx does centrality calculation [here](https://networkx.github.io/documentation/networkx-1.10/reference/algorithms.centrality.html).  \n",
    "\n",
    " \n",
    "We will:\n",
    "\n",
    "0. Introduce to the twitter network data and the choices made \n",
    "1. Import edgelist and contruct a directed retweet network\n",
    "2. Calculate and inspect patterns of outdegree centrality\n",
    "3. Calculate and inspect patterns of indegree centrality\n",
    "4. Calculate and inspect patterns of betweenness centrality\n",
    "5. Calculate and inspect patterns of closeness centrality\n",
    "6. Calculate and inspect patterns of ego-network density\n",
    "7. Export directed graph to networkx\n",
    "\n",
    "\n",
    "## 0.Introduce to the Twitter network data and the choices made \n",
    "\n",
    "In Digital Methods onedrive folder there is a retweet networks, a reply network and soon a hashtag network(not ready).\n",
    "\n",
    "**Reply and retweet network construction**\n",
    "1. the network bounderies drawn with reference to activity, namely partaking in the twitter public around the corona issue. To ensure this every tweets was matched up against a list of corona issue terms and only tweets that contained one or more of these corona issue terms became a part of the dataset.  \n",
    "\n",
    "2. For a user to be a part of the network the user had to to tweet about the corona issue more than 7 times.\n",
    "\n",
    "3. all the actors in both the reply and retweet network has to have either out or in going edges. In other words they have to either be retweetet/replied or retweet/reply. \n",
    "\n",
    "**Hashtag networks** \n",
    "\n",
    "1. All the hashtag had to come from tweets about the corona issue. Looking at both text and hashtags. \n",
    "\n",
    "2. The 1000 most used hashtags, besides the ones used to select the twittes, constitutes the nodes of the hashtag network. An edges between them means that they co-occurer in one tweet or more. NOT READY"
   ]
  },
  {
   "cell_type": "code",
   "execution_count": 7,
   "metadata": {},
   "outputs": [],
   "source": [
    "# import libraries\n",
    "import pandas as pd\n",
    "import networkx as nx\n",
    "import matplotlib as plt\n",
    "%matplotlib inline "
   ]
  },
  {
   "cell_type": "markdown",
   "metadata": {},
   "source": [
    "## 1. Import edgelist and contruct a directed retweet network"
   ]
  },
  {
   "cell_type": "code",
   "execution_count": 8,
   "metadata": {},
   "outputs": [],
   "source": [
    "# importing retweet edges list. 'user' is the one \n",
    "# twitting and 'retweeted_user' is being retweeted.\n",
    "directory = '/Users/hjalmarbangcarlsen/OneDrive - Københavns Universitet/digital_methods2020spring/' # remember to change directory\n",
    "df_retweet_edges = pd.read_csv(directory+'DM2020_corona_twitter_data/retweet_edges_small.csv') \n",
    "\n",
    "# pandas to_records transforms a dataframe into a list of truples, which networkx can work with\n",
    "edges_retweet = df_retweet_edges.to_records(index=False)\n",
    "\n",
    "# Construct a directed graph\n",
    "digraph_retweet = nx.DiGraph()\n",
    "\n",
    "# A directed graph takes an list of tuples.\n",
    "digraph_retweet.add_edges_from(edges_retweet)"
   ]
  },
  {
   "cell_type": "code",
   "execution_count": 9,
   "metadata": {},
   "outputs": [
    {
     "data": {
      "text/plain": [
       "(3050, 9044)"
      ]
     },
     "execution_count": 9,
     "metadata": {},
     "output_type": "execute_result"
    }
   ],
   "source": [
    "# lets check the number of nodes and edges\n",
    "digraph_retweet.number_of_nodes(), digraph_retweet.number_of_edges()"
   ]
  },
  {
   "cell_type": "markdown",
   "metadata": {},
   "source": [
    "### 2.Calculate and inspect patterns of outdegree centrality\n"
   ]
  },
  {
   "cell_type": "code",
   "execution_count": 10,
   "metadata": {},
   "outputs": [
    {
     "data": {
      "text/plain": [
       "Michaela Rousing ❄    0.072483\n",
       "Politik Papegøjen🦜    0.048213\n",
       "Tɯitterhjerne         0.037389\n",
       "Pip fra journalist    0.034438\n",
       "Rasmus Kongshøj       0.033782\n",
       "Bibsen 🍀🌿🍃🌱           0.025582\n",
       "Stine Charlotte       0.023286\n",
       "Henrik Brinels        0.022302\n",
       "Gitte K. Persson      0.022302\n",
       "Brian Martini         0.021974\n",
       "dtype: float64"
      ]
     },
     "execution_count": 10,
     "metadata": {},
     "output_type": "execute_result"
    }
   ],
   "source": [
    "# Calculating out_degree centrality\n",
    "retweet_out_degree_centrality = nx.out_degree_centrality(digraph_retweet)\n",
    "pd.Series(retweet_out_degree_centrality).nlargest(10)"
   ]
  },
  {
   "cell_type": "markdown",
   "metadata": {},
   "source": [
    "### 3.Calculate and inspect patterns of indegree centrality"
   ]
  },
  {
   "cell_type": "code",
   "execution_count": 11,
   "metadata": {},
   "outputs": [
    {
     "data": {
      "text/plain": [
       "regeringDK         0.074779\n",
       "M_B_Petersen       0.060676\n",
       "Rigspoliti         0.058052\n",
       "SSTSundhed         0.056740\n",
       "mortensode         0.036405\n",
       "AndersLadekarl     0.036077\n",
       "LMSTSenderovitz    0.035093\n",
       "noedhjaelp         0.030830\n",
       "OleRyborg          0.025910\n",
       "Heunicke           0.025254\n",
       "dtype: float64"
      ]
     },
     "execution_count": 11,
     "metadata": {},
     "output_type": "execute_result"
    }
   ],
   "source": [
    "# Calculating indegree centrality\n",
    "retweet_in_degree_centrality = nx.in_degree_centrality(digraph_retweet)\n",
    "pd.Series(retweet_in_degree_centrality).nlargest(10)"
   ]
  },
  {
   "cell_type": "markdown",
   "metadata": {},
   "source": [
    "Indegree centrality does not care about the global reach and thereby be driven local patterns."
   ]
  },
  {
   "cell_type": "markdown",
   "metadata": {},
   "source": [
    "### 4. Calculate and inspect patterns of betweenness centrality"
   ]
  },
  {
   "cell_type": "code",
   "execution_count": 12,
   "metadata": {},
   "outputs": [
    {
     "data": {
      "text/plain": [
       "nunanoskar         2.248919e-05\n",
       "Carlsbergfondet    3.443322e-06\n",
       "SMVdanmark         2.044472e-06\n",
       "Hunrejen           4.304152e-07\n",
       "Tokeroed           4.304152e-07\n",
       "Westegnen          1.076038e-07\n",
       "TV 2 NYHEDERNE     0.000000e+00\n",
       "tv2newsdk          0.000000e+00\n",
       "Chi Hon 韓志         0.000000e+00\n",
       "john burmeister    0.000000e+00\n",
       "dtype: float64"
      ]
     },
     "execution_count": 12,
     "metadata": {},
     "output_type": "execute_result"
    }
   ],
   "source": [
    "# Calculating betweenness centrality\n",
    "retweet_betweenness_centrality = nx.betweenness_centrality(digraph_retweet)\n",
    "pd.Series(retweet_betweenness_centrality).nlargest(10)"
   ]
  },
  {
   "cell_type": "markdown",
   "metadata": {},
   "source": [
    "### 5. Calculate and inspect patterns of closeness centrality\n"
   ]
  },
  {
   "cell_type": "code",
   "execution_count": 13,
   "metadata": {},
   "outputs": [
    {
     "data": {
      "text/plain": [
       "regeringDK         0.075224\n",
       "M_B_Petersen       0.060691\n",
       "Rigspoliti         0.058052\n",
       "SSTSundhed         0.056740\n",
       "AndersLadekarl     0.036543\n",
       "mortensode         0.036405\n",
       "LMSTSenderovitz    0.035093\n",
       "noedhjaelp         0.030843\n",
       "OleRyborg          0.025910\n",
       "Heunicke           0.025866\n",
       "dtype: float64"
      ]
     },
     "execution_count": 13,
     "metadata": {},
     "output_type": "execute_result"
    }
   ],
   "source": [
    "# Calculating closeness centrality\n",
    "retweet_closeness_centrality = nx.closeness_centrality(digraph_retweet)\n",
    "pd.Series(retweet_closeness_centrality).nlargest(10)"
   ]
  },
  {
   "cell_type": "markdown",
   "metadata": {},
   "source": [
    "### 6. Calculate and inspect patterns of ego-network density\n"
   ]
  },
  {
   "cell_type": "code",
   "execution_count": 14,
   "metadata": {},
   "outputs": [],
   "source": [
    "# calculate density for ego networks\n",
    "density = []\n",
    "network_size = []\n",
    "nodes = []\n",
    "\n",
    "for node in digraph_retweet.nodes():\n",
    "    \n",
    "    nodes.append(node)\n",
    "    ego_G = nx.ego_graph(digraph_retweet,node,undirected=False)\n",
    "    \n",
    "    ego_density = nx.density(ego_G)\n",
    "    density.append(ego_density)\n",
    "    \n",
    "    size = ego_G.number_of_nodes()\n",
    "    network_size.append(size)\n",
    "    \n",
    "df_ego_density = pd.DataFrame(columns=[\"density\",'network_size','nodes'])\n",
    "\n",
    "df_ego_density['density'] = density\n",
    "df_ego_density['network_size'] = network_size\n",
    "df_ego_density['nodes'] = nodes"
   ]
  },
  {
   "cell_type": "code",
   "execution_count": 15,
   "metadata": {},
   "outputs": [
    {
     "data": {
      "text/html": [
       "<div>\n",
       "<style scoped>\n",
       "    .dataframe tbody tr th:only-of-type {\n",
       "        vertical-align: middle;\n",
       "    }\n",
       "\n",
       "    .dataframe tbody tr th {\n",
       "        vertical-align: top;\n",
       "    }\n",
       "\n",
       "    .dataframe thead th {\n",
       "        text-align: right;\n",
       "    }\n",
       "</style>\n",
       "<table border=\"1\" class=\"dataframe\">\n",
       "  <thead>\n",
       "    <tr style=\"text-align: right;\">\n",
       "      <th></th>\n",
       "      <th>density</th>\n",
       "      <th>network_size</th>\n",
       "      <th>nodes</th>\n",
       "    </tr>\n",
       "  </thead>\n",
       "  <tbody>\n",
       "    <tr>\n",
       "      <th>2682</th>\n",
       "      <td>0.5</td>\n",
       "      <td>2</td>\n",
       "      <td>FB</td>\n",
       "    </tr>\n",
       "    <tr>\n",
       "      <th>1394</th>\n",
       "      <td>0.5</td>\n",
       "      <td>2</td>\n",
       "      <td>Kristian M. Puggaard</td>\n",
       "    </tr>\n",
       "    <tr>\n",
       "      <th>1361</th>\n",
       "      <td>0.5</td>\n",
       "      <td>2</td>\n",
       "      <td>Morten Bove</td>\n",
       "    </tr>\n",
       "    <tr>\n",
       "      <th>1366</th>\n",
       "      <td>0.5</td>\n",
       "      <td>2</td>\n",
       "      <td>Dänische Botschaft</td>\n",
       "    </tr>\n",
       "    <tr>\n",
       "      <th>2492</th>\n",
       "      <td>0.5</td>\n",
       "      <td>2</td>\n",
       "      <td>Aktuel Kommentar</td>\n",
       "    </tr>\n",
       "    <tr>\n",
       "      <th>299</th>\n",
       "      <td>0.5</td>\n",
       "      <td>2</td>\n",
       "      <td>Klaus Egelund</td>\n",
       "    </tr>\n",
       "    <tr>\n",
       "      <th>298</th>\n",
       "      <td>0.5</td>\n",
       "      <td>2</td>\n",
       "      <td>Jesper Olsen</td>\n",
       "    </tr>\n",
       "    <tr>\n",
       "      <th>1372</th>\n",
       "      <td>0.5</td>\n",
       "      <td>2</td>\n",
       "      <td>Line Brisson</td>\n",
       "    </tr>\n",
       "    <tr>\n",
       "      <th>2489</th>\n",
       "      <td>0.5</td>\n",
       "      <td>2</td>\n",
       "      <td>Sophie H. Andersen</td>\n",
       "    </tr>\n",
       "    <tr>\n",
       "      <th>295</th>\n",
       "      <td>0.5</td>\n",
       "      <td>2</td>\n",
       "      <td>Kristoffer 🇩🇰🇰🇼</td>\n",
       "    </tr>\n",
       "  </tbody>\n",
       "</table>\n",
       "</div>"
      ],
      "text/plain": [
       "      density  network_size                 nodes\n",
       "2682      0.5             2                    FB\n",
       "1394      0.5             2  Kristian M. Puggaard\n",
       "1361      0.5             2           Morten Bove\n",
       "1366      0.5             2    Dänische Botschaft\n",
       "2492      0.5             2      Aktuel Kommentar\n",
       "299       0.5             2         Klaus Egelund\n",
       "298       0.5             2          Jesper Olsen\n",
       "1372      0.5             2          Line Brisson\n",
       "2489      0.5             2    Sophie H. Andersen\n",
       "295       0.5             2       Kristoffer 🇩🇰🇰🇼"
      ]
     },
     "execution_count": 15,
     "metadata": {},
     "output_type": "execute_result"
    }
   ],
   "source": [
    "df_ego_density.sort_values(by='density',ascending=False)[:10]"
   ]
  },
  {
   "cell_type": "markdown",
   "metadata": {},
   "source": [
    "### 7. Export directed graph to networkx"
   ]
  },
  {
   "cell_type": "code",
   "execution_count": 16,
   "metadata": {},
   "outputs": [],
   "source": [
    "# Export to gephi format, remember to change directory\n",
    "nx.write_gexf(digraph_retweet, directory+\"DM2020_corona_twitter_data/Hjalmar/retweet_network.gexf\")"
   ]
  }
 ],
 "metadata": {
  "kernelspec": {
   "display_name": "Python 3",
   "language": "python",
   "name": "python3"
  },
  "language_info": {
   "codemirror_mode": {
    "name": "ipython",
    "version": 3
   },
   "file_extension": ".py",
   "mimetype": "text/x-python",
   "name": "python",
   "nbconvert_exporter": "python",
   "pygments_lexer": "ipython3",
   "version": "3.7.4"
  }
 },
 "nbformat": 4,
 "nbformat_minor": 4
}
