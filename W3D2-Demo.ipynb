{
 "cells": [
  {
   "cell_type": "markdown",
   "metadata": {},
   "source": [
    "# Demo 4: APIs and Functions II \n",
    "\n",
    "## 4.1 Twitter API\n"
   ]
  },
  {
   "cell_type": "markdown",
   "metadata": {},
   "source": [
    "**4.1.1 Installing and importing new modules:** Before we can interact with the Twitter API, we need to install the `tweepy` module. We would usually install modules outside our Jupyter Notebooks using the command line. However, we can actually also interact with the command line from within our Notebooks using the `!` operator. Now, uncomment the cell below and run it."
   ]
  },
  {
   "cell_type": "code",
   "execution_count": 16,
   "metadata": {},
   "outputs": [
    {
     "name": "stdout",
     "output_type": "stream",
     "text": [
      "Collecting package metadata (current_repodata.json): done\n",
      "Solving environment: done\n",
      "\n",
      "# All requested packages already installed.\n",
      "\n"
     ]
    }
   ],
   "source": [
    "# # BEFORE WE CAN USE THE TWEEPY LIBRARY, WE NEED DO INSTALL IT\n",
    "# # THAT IS, UNCOMMENT AND EXECUTE THIS CELL ONCE\n",
    "# # need to use sys.prefix to install from within jupyter notebook\n",
    "# # following: https://jakevdp.github.io/blog/2017/12/05/installing-python-packages-from-jupyter/\n",
    "import sys\n",
    "! conda install --yes --prefix {sys.prefix} -c conda-forge tweepy"
   ]
  },
  {
   "cell_type": "markdown",
   "metadata": {},
   "source": [
    "After you have run the above cell, make sure everything worked as expected and that you have successfully installed `tweepy` by importing the module and checking it's version using the commands in the cell below."
   ]
  },
  {
   "cell_type": "code",
   "execution_count": 17,
   "metadata": {},
   "outputs": [
    {
     "name": "stdout",
     "output_type": "stream",
     "text": [
      "3.8.0\n"
     ]
    }
   ],
   "source": [
    "import tweepy\n",
    "print(tweepy.__version__)"
   ]
  },
  {
   "cell_type": "markdown",
   "metadata": {},
   "source": [
    "**4.1.2 Loading credentials and authenticating to the API**: Now that we have installed and imported the `tweepy` module, we can use it to authenticate ourselves to the Twitter API. To do this, we first need to access our credentials from the file _AppCred.py_ we set up earlier in class. Running the cell below will load your Twitter developer credentials and make them available in this session of your Jupyter Notebook."
   ]
  },
  {
   "cell_type": "code",
   "execution_count": 23,
   "metadata": {},
   "outputs": [],
   "source": [
    "CONSUMER_KEY = \"FULYEYV7jl8leJSPd1s1w3cDT\"\n",
    "CONSUMER_SECRET = \"d2Cch1IQ6j14rexgL95vpSbVZdMNmpS4mJEyrsb5HvfiDwi5Up\"\n",
    "\n",
    "ACCESS_TOKEN = \"1037999668343517184-5TV8TkeV13lMZHzUju1NXP0ArcMw7w\"\n",
    "ACCESS_TOKEN_SECRET = \"BXXbmNSsr2UyPTE4At0f0zN1kzeCsxzLeDILDLtneQ5lA\""
   ]
  },
  {
   "cell_type": "markdown",
   "metadata": {},
   "source": [
    "Now we can start the authentication process to access the Twitter API by passing your consumer details to the `OAuthHandler` function from the `tweepy` module."
   ]
  },
  {
   "cell_type": "code",
   "execution_count": 24,
   "metadata": {},
   "outputs": [],
   "source": [
    "auth = tweepy.OAuthHandler(CONSUMER_KEY, CONSUMER_SECRET)"
   ]
  },
  {
   "cell_type": "markdown",
   "metadata": {},
   "source": [
    "Next, we add our access details to the `auth` variable we just created."
   ]
  },
  {
   "cell_type": "code",
   "execution_count": 25,
   "metadata": {},
   "outputs": [],
   "source": [
    "auth.set_access_token(ACCESS_TOKEN, ACCESS_TOKEN_SECRET)"
   ]
  },
  {
   "cell_type": "markdown",
   "metadata": {},
   "source": [
    "Finally, we pass our `auth` variable to the `API` function provided in the `tweepy` module to generate variable that allows us to interact with Twitter API."
   ]
  },
  {
   "cell_type": "code",
   "execution_count": 26,
   "metadata": {},
   "outputs": [],
   "source": [
    "api = tweepy.API(auth)"
   ]
  },
  {
   "cell_type": "markdown",
   "metadata": {},
   "source": [
    "**4.1.3 Interacting with the Twitter API:** Now that we authenticated ourselves to the Twitter API, we can use it to post and delete tweets from our own account, favorite and retweet tweets from other accounts, and collect information from other public Twitter accounts. \n",
    "\n",
    "**4.1.3.1 Tweeting:** Let's try posting a tweet with our well known example using the `update_status` function."
   ]
  },
  {
   "cell_type": "code",
   "execution_count": 27,
   "metadata": {},
   "outputs": [
    {
     "ename": "TweepError",
     "evalue": "[{'code': 187, 'message': 'Status is a duplicate.'}]",
     "output_type": "error",
     "traceback": [
      "\u001b[0;31m---------------------------------------------------------------------------\u001b[0m",
      "\u001b[0;31mTweepError\u001b[0m                                Traceback (most recent call last)",
      "\u001b[0;32m<ipython-input-27-f6393b2646d0>\u001b[0m in \u001b[0;36m<module>\u001b[0;34m\u001b[0m\n\u001b[0;32m----> 1\u001b[0;31m \u001b[0mapi\u001b[0m\u001b[0;34m.\u001b[0m\u001b[0mupdate_status\u001b[0m\u001b[0;34m(\u001b[0m\u001b[0;34m\"Hello World!\"\u001b[0m\u001b[0;34m)\u001b[0m\u001b[0;34m\u001b[0m\u001b[0;34m\u001b[0m\u001b[0m\n\u001b[0m",
      "\u001b[0;32m~/opt/anaconda3/lib/python3.7/site-packages/tweepy/api.py\u001b[0m in \u001b[0;36mupdate_status\u001b[0;34m(self, *args, **kwargs)\u001b[0m\n\u001b[1;32m    191\u001b[0m             \u001b[0mallowed_param\u001b[0m\u001b[0;34m=\u001b[0m\u001b[0;34m[\u001b[0m\u001b[0;34m'status'\u001b[0m\u001b[0;34m,\u001b[0m \u001b[0;34m'in_reply_to_status_id'\u001b[0m\u001b[0;34m,\u001b[0m \u001b[0;34m'in_reply_to_status_id_str'\u001b[0m\u001b[0;34m,\u001b[0m \u001b[0;34m'auto_populate_reply_metadata'\u001b[0m\u001b[0;34m,\u001b[0m \u001b[0;34m'lat'\u001b[0m\u001b[0;34m,\u001b[0m \u001b[0;34m'long'\u001b[0m\u001b[0;34m,\u001b[0m \u001b[0;34m'source'\u001b[0m\u001b[0;34m,\u001b[0m \u001b[0;34m'place_id'\u001b[0m\u001b[0;34m,\u001b[0m \u001b[0;34m'display_coordinates'\u001b[0m\u001b[0;34m]\u001b[0m\u001b[0;34m,\u001b[0m\u001b[0;34m\u001b[0m\u001b[0;34m\u001b[0m\u001b[0m\n\u001b[1;32m    192\u001b[0m             \u001b[0mrequire_auth\u001b[0m\u001b[0;34m=\u001b[0m\u001b[0;32mTrue\u001b[0m\u001b[0;34m\u001b[0m\u001b[0;34m\u001b[0m\u001b[0m\n\u001b[0;32m--> 193\u001b[0;31m         )(post_data=post_data, *args, **kwargs)\n\u001b[0m\u001b[1;32m    194\u001b[0m \u001b[0;34m\u001b[0m\u001b[0m\n\u001b[1;32m    195\u001b[0m     \u001b[0;32mdef\u001b[0m \u001b[0mmedia_upload\u001b[0m\u001b[0;34m(\u001b[0m\u001b[0mself\u001b[0m\u001b[0;34m,\u001b[0m \u001b[0mfilename\u001b[0m\u001b[0;34m,\u001b[0m \u001b[0;34m*\u001b[0m\u001b[0margs\u001b[0m\u001b[0;34m,\u001b[0m \u001b[0;34m**\u001b[0m\u001b[0mkwargs\u001b[0m\u001b[0;34m)\u001b[0m\u001b[0;34m:\u001b[0m\u001b[0;34m\u001b[0m\u001b[0;34m\u001b[0m\u001b[0m\n",
      "\u001b[0;32m~/opt/anaconda3/lib/python3.7/site-packages/tweepy/binder.py\u001b[0m in \u001b[0;36m_call\u001b[0;34m(*args, **kwargs)\u001b[0m\n\u001b[1;32m    248\u001b[0m                 \u001b[0;32mreturn\u001b[0m \u001b[0mmethod\u001b[0m\u001b[0;34m\u001b[0m\u001b[0;34m\u001b[0m\u001b[0m\n\u001b[1;32m    249\u001b[0m             \u001b[0;32melse\u001b[0m\u001b[0;34m:\u001b[0m\u001b[0;34m\u001b[0m\u001b[0;34m\u001b[0m\u001b[0m\n\u001b[0;32m--> 250\u001b[0;31m                 \u001b[0;32mreturn\u001b[0m \u001b[0mmethod\u001b[0m\u001b[0;34m.\u001b[0m\u001b[0mexecute\u001b[0m\u001b[0;34m(\u001b[0m\u001b[0;34m)\u001b[0m\u001b[0;34m\u001b[0m\u001b[0;34m\u001b[0m\u001b[0m\n\u001b[0m\u001b[1;32m    251\u001b[0m         \u001b[0;32mfinally\u001b[0m\u001b[0;34m:\u001b[0m\u001b[0;34m\u001b[0m\u001b[0;34m\u001b[0m\u001b[0m\n\u001b[1;32m    252\u001b[0m             \u001b[0mmethod\u001b[0m\u001b[0;34m.\u001b[0m\u001b[0msession\u001b[0m\u001b[0;34m.\u001b[0m\u001b[0mclose\u001b[0m\u001b[0;34m(\u001b[0m\u001b[0;34m)\u001b[0m\u001b[0;34m\u001b[0m\u001b[0;34m\u001b[0m\u001b[0m\n",
      "\u001b[0;32m~/opt/anaconda3/lib/python3.7/site-packages/tweepy/binder.py\u001b[0m in \u001b[0;36mexecute\u001b[0;34m(self)\u001b[0m\n\u001b[1;32m    231\u001b[0m                     \u001b[0;32mraise\u001b[0m \u001b[0mRateLimitError\u001b[0m\u001b[0;34m(\u001b[0m\u001b[0merror_msg\u001b[0m\u001b[0;34m,\u001b[0m \u001b[0mresp\u001b[0m\u001b[0;34m)\u001b[0m\u001b[0;34m\u001b[0m\u001b[0;34m\u001b[0m\u001b[0m\n\u001b[1;32m    232\u001b[0m                 \u001b[0;32melse\u001b[0m\u001b[0;34m:\u001b[0m\u001b[0;34m\u001b[0m\u001b[0;34m\u001b[0m\u001b[0m\n\u001b[0;32m--> 233\u001b[0;31m                     \u001b[0;32mraise\u001b[0m \u001b[0mTweepError\u001b[0m\u001b[0;34m(\u001b[0m\u001b[0merror_msg\u001b[0m\u001b[0;34m,\u001b[0m \u001b[0mresp\u001b[0m\u001b[0;34m,\u001b[0m \u001b[0mapi_code\u001b[0m\u001b[0;34m=\u001b[0m\u001b[0mapi_error_code\u001b[0m\u001b[0;34m)\u001b[0m\u001b[0;34m\u001b[0m\u001b[0;34m\u001b[0m\u001b[0m\n\u001b[0m\u001b[1;32m    234\u001b[0m \u001b[0;34m\u001b[0m\u001b[0m\n\u001b[1;32m    235\u001b[0m             \u001b[0;31m# Parse the response payload\u001b[0m\u001b[0;34m\u001b[0m\u001b[0;34m\u001b[0m\u001b[0;34m\u001b[0m\u001b[0m\n",
      "\u001b[0;31mTweepError\u001b[0m: [{'code': 187, 'message': 'Status is a duplicate.'}]"
     ]
    }
   ],
   "source": [
    "api.update_status(\"Hello World!\")"
   ]
  },
  {
   "cell_type": "markdown",
   "metadata": {},
   "source": [
    "You just posted your first tweet using Python, how exciting! Now, go to your Twitter profile and see if you can find the tweet by going to _twitter.com/YOUR_USERNAME_.\n",
    "\n",
    "**4.1.3.2 Deleting:** In addition to posting on Twitter, we can also delete our own tweets. To do that we need to find the _tweet id_ of our post. See if you can find your tweet's id, then pass it to the function `destroy_status` below and see what happens when you execute the cell and return to your Twitter profile. "
   ]
  },
  {
   "cell_type": "code",
   "execution_count": 8,
   "metadata": {},
   "outputs": [
    {
     "ename": "TweepError",
     "evalue": "[{'code': 144, 'message': 'No status found with that ID.'}]",
     "output_type": "error",
     "traceback": [
      "\u001b[0;31m---------------------------------------------------------------------------\u001b[0m",
      "\u001b[0;31mTweepError\u001b[0m                                Traceback (most recent call last)",
      "\u001b[0;32m<ipython-input-8-efe57b3caffc>\u001b[0m in \u001b[0;36m<module>\u001b[0;34m\u001b[0m\n\u001b[0;32m----> 1\u001b[0;31m \u001b[0mapi\u001b[0m\u001b[0;34m.\u001b[0m\u001b[0mdestroy_status\u001b[0m\u001b[0;34m(\u001b[0m\u001b[0;34m\"1232270222033375232\"\u001b[0m\u001b[0;34m)\u001b[0m\u001b[0;34m\u001b[0m\u001b[0;34m\u001b[0m\u001b[0m\n\u001b[0m\u001b[1;32m      2\u001b[0m \u001b[0;34m\u001b[0m\u001b[0m\n\u001b[1;32m      3\u001b[0m \u001b[0;31m#the tweet id is the number at the end of the url\u001b[0m\u001b[0;34m\u001b[0m\u001b[0;34m\u001b[0m\u001b[0;34m\u001b[0m\u001b[0m\n",
      "\u001b[0;32m~/opt/anaconda3/lib/python3.7/site-packages/tweepy/binder.py\u001b[0m in \u001b[0;36m_call\u001b[0;34m(*args, **kwargs)\u001b[0m\n\u001b[1;32m    248\u001b[0m                 \u001b[0;32mreturn\u001b[0m \u001b[0mmethod\u001b[0m\u001b[0;34m\u001b[0m\u001b[0;34m\u001b[0m\u001b[0m\n\u001b[1;32m    249\u001b[0m             \u001b[0;32melse\u001b[0m\u001b[0;34m:\u001b[0m\u001b[0;34m\u001b[0m\u001b[0;34m\u001b[0m\u001b[0m\n\u001b[0;32m--> 250\u001b[0;31m                 \u001b[0;32mreturn\u001b[0m \u001b[0mmethod\u001b[0m\u001b[0;34m.\u001b[0m\u001b[0mexecute\u001b[0m\u001b[0;34m(\u001b[0m\u001b[0;34m)\u001b[0m\u001b[0;34m\u001b[0m\u001b[0;34m\u001b[0m\u001b[0m\n\u001b[0m\u001b[1;32m    251\u001b[0m         \u001b[0;32mfinally\u001b[0m\u001b[0;34m:\u001b[0m\u001b[0;34m\u001b[0m\u001b[0;34m\u001b[0m\u001b[0m\n\u001b[1;32m    252\u001b[0m             \u001b[0mmethod\u001b[0m\u001b[0;34m.\u001b[0m\u001b[0msession\u001b[0m\u001b[0;34m.\u001b[0m\u001b[0mclose\u001b[0m\u001b[0;34m(\u001b[0m\u001b[0;34m)\u001b[0m\u001b[0;34m\u001b[0m\u001b[0;34m\u001b[0m\u001b[0m\n",
      "\u001b[0;32m~/opt/anaconda3/lib/python3.7/site-packages/tweepy/binder.py\u001b[0m in \u001b[0;36mexecute\u001b[0;34m(self)\u001b[0m\n\u001b[1;32m    231\u001b[0m                     \u001b[0;32mraise\u001b[0m \u001b[0mRateLimitError\u001b[0m\u001b[0;34m(\u001b[0m\u001b[0merror_msg\u001b[0m\u001b[0;34m,\u001b[0m \u001b[0mresp\u001b[0m\u001b[0;34m)\u001b[0m\u001b[0;34m\u001b[0m\u001b[0;34m\u001b[0m\u001b[0m\n\u001b[1;32m    232\u001b[0m                 \u001b[0;32melse\u001b[0m\u001b[0;34m:\u001b[0m\u001b[0;34m\u001b[0m\u001b[0;34m\u001b[0m\u001b[0m\n\u001b[0;32m--> 233\u001b[0;31m                     \u001b[0;32mraise\u001b[0m \u001b[0mTweepError\u001b[0m\u001b[0;34m(\u001b[0m\u001b[0merror_msg\u001b[0m\u001b[0;34m,\u001b[0m \u001b[0mresp\u001b[0m\u001b[0;34m,\u001b[0m \u001b[0mapi_code\u001b[0m\u001b[0;34m=\u001b[0m\u001b[0mapi_error_code\u001b[0m\u001b[0;34m)\u001b[0m\u001b[0;34m\u001b[0m\u001b[0;34m\u001b[0m\u001b[0m\n\u001b[0m\u001b[1;32m    234\u001b[0m \u001b[0;34m\u001b[0m\u001b[0m\n\u001b[1;32m    235\u001b[0m             \u001b[0;31m# Parse the response payload\u001b[0m\u001b[0;34m\u001b[0m\u001b[0;34m\u001b[0m\u001b[0;34m\u001b[0m\u001b[0m\n",
      "\u001b[0;31mTweepError\u001b[0m: [{'code': 144, 'message': 'No status found with that ID.'}]"
     ]
    }
   ],
   "source": [
    "api.destroy_status(\"1232270222033375232\")\n",
    "\n",
    "#the tweet id is the number at the end of the url"
   ]
  },
  {
   "cell_type": "markdown",
   "metadata": {},
   "source": [
    "**4.1.3.3 Reading:** For many research purposes you might be more interested in collecting information such as tweets from Twitter rather than posting your own. We can also do this in Python using the Twitter API. Let's start with a simple example of accessing the complete timeline of an account I created for our class."
   ]
  },
  {
   "cell_type": "code",
   "execution_count": 28,
   "metadata": {},
   "outputs": [],
   "source": [
    "example_timeline = api.user_timeline(\"vicariousveblen\")"
   ]
  },
  {
   "cell_type": "markdown",
   "metadata": {},
   "source": [
    "This creates a variable of type `tweepy.models.ResultSet` which basically behaves like a list of tweets with the text and a lot of metadata. Knowing that it behaves like a list, how can we see how many tweets we collected?"
   ]
  },
  {
   "cell_type": "code",
   "execution_count": 29,
   "metadata": {},
   "outputs": [
    {
     "data": {
      "text/plain": [
       "4"
      ]
     },
     "execution_count": 29,
     "metadata": {},
     "output_type": "execute_result"
    }
   ],
   "source": [
    "# code to look up how many tweets we collected\n",
    "\n",
    "len(example_timeline)"
   ]
  },
  {
   "cell_type": "markdown",
   "metadata": {},
   "source": [
    "So we collected a set of tweets and now want to look at the content/the texts of these tweets. Remembering that you can work with the `example_timeline` variable like with a list and that each list element has a key called `text` linked to the content of the tweet, how would you access the first tweet in `example_timeline`?"
   ]
  },
  {
   "cell_type": "code",
   "execution_count": 30,
   "metadata": {
    "scrolled": true
   },
   "outputs": [
    {
     "name": "stdout",
     "output_type": "stream",
     "text": [
      "For the end of vicarious consumption is to enhance, not the fullness of life of the consumer, but the pecuniary rep… https://t.co/x2O7ALCem3\n"
     ]
    }
   ],
   "source": [
    "# code to access the content of the first tweet in the timeline\n",
    "\n",
    "print (example_timeline[0].text)"
   ]
  },
  {
   "cell_type": "markdown",
   "metadata": {},
   "source": [
    "Look at this output and compare it to the original tweet [here](https://t.co/x2O7ALCem3). What do you notice? What does that mean for working with the Twitter API in practice?"
   ]
  },
  {
   "cell_type": "markdown",
   "metadata": {},
   "source": [
    "The Twitter API cuts tweets of a certain length but contains information about which tweets are cut in a key called `truncated`. Can you write a loop to look at which of the tweets we collected were cut short?"
   ]
  },
  {
   "cell_type": "code",
   "execution_count": 32,
   "metadata": {
    "scrolled": true
   },
   "outputs": [
    {
     "name": "stdout",
     "output_type": "stream",
     "text": [
      "True\n",
      "False\n",
      "False\n",
      "False\n"
     ]
    }
   ],
   "source": [
    "# code to loop through timeline and tell if tweets were cut short\n",
    "\n",
    "for tweet in example_timeline:\n",
    "    print(tweet.truncated)"
   ]
  },
  {
   "cell_type": "markdown",
   "metadata": {},
   "source": [
    "If we did not have this information, we could use the tools that we have learned already to provide us with the same information. How would you write a loop that does this? _Hint:_ You will want to look at what distinguishes the `text` in truncated tweets from those in untruncated tweets."
   ]
  },
  {
   "cell_type": "code",
   "execution_count": 35,
   "metadata": {},
   "outputs": [
    {
     "name": "stdout",
     "output_type": "stream",
     "text": [
      "True\n",
      "False\n",
      "False\n",
      "False\n"
     ]
    }
   ],
   "source": [
    "# alternative code to loop through timeline \n",
    "# and tell if tweets were cut short\n",
    "\n",
    "# the 'https://t.co' is the part of the link that all truncated tweets will have in common\n",
    "\n",
    "for tweet in example_timeline:\n",
    "    print ('https://t.co/' in tweet.text)"
   ]
  },
  {
   "cell_type": "markdown",
   "metadata": {},
   "source": [
    "In addition to the tweet content, the API provides us with a host of valuable metadata about the tweets such as how often they were retweeted, favorited, and when they were posted. Looking just at the second tweet using `example_timeline[1]`, can you find the right keys to identify 1) when the tweet was posted, 2) how often it has been retweeted, and 3) how often it has been favorited?"
   ]
  },
  {
   "cell_type": "code",
   "execution_count": 36,
   "metadata": {},
   "outputs": [
    {
     "name": "stdout",
     "output_type": "stream",
     "text": [
      "As has already been indicated, the distinction between exploit and drudgery is an invidious distinction between employments.\n"
     ]
    }
   ],
   "source": [
    "# look at the second element in example_timeline\n",
    "\n",
    "print(example_timeline[1].text)"
   ]
  },
  {
   "cell_type": "code",
   "execution_count": 39,
   "metadata": {},
   "outputs": [
    {
     "data": {
      "text/plain": [
       "'2020-02-18 16:47:23'"
      ]
     },
     "execution_count": 39,
     "metadata": {},
     "output_type": "execute_result"
    }
   ],
   "source": [
    "# 1) code to access time of posting\n",
    "\n",
    "str(example_timeline[1].created_at)"
   ]
  },
  {
   "cell_type": "code",
   "execution_count": 43,
   "metadata": {},
   "outputs": [
    {
     "data": {
      "text/plain": [
       "0"
      ]
     },
     "execution_count": 43,
     "metadata": {},
     "output_type": "execute_result"
    }
   ],
   "source": [
    "# 2) code to access number of retweets\n",
    "\n",
    "example_timeline[1].retweet_count"
   ]
  },
  {
   "cell_type": "code",
   "execution_count": 44,
   "metadata": {},
   "outputs": [
    {
     "data": {
      "text/plain": [
       "2"
      ]
     },
     "execution_count": 44,
     "metadata": {},
     "output_type": "execute_result"
    }
   ],
   "source": [
    "# 3) code to access number of favorites\n",
    "\n",
    "example_timeline[1].favorite_count"
   ]
  },
  {
   "cell_type": "markdown",
   "metadata": {},
   "source": [
    "Beside allowing us to collect all the tweets produced by public Twitter accounts, the Twitter API also allows us to only access information about the Twitter acounts. The function to do this in `tweepy` is called `get_user`."
   ]
  },
  {
   "cell_type": "code",
   "execution_count": 45,
   "metadata": {},
   "outputs": [],
   "source": [
    "example_user = api.get_user(\"vicariousveblen\")"
   ]
  },
  {
   "cell_type": "markdown",
   "metadata": {},
   "source": [
    "Once we have collected the user profile, we can look at things like their location, their description or about me section, how often they have posted and who they follow and who follows them. The variable type returned by `get_user` is slightly easier to navigate to access these information since they are not nested in tweets."
   ]
  },
  {
   "cell_type": "code",
   "execution_count": 46,
   "metadata": {},
   "outputs": [
    {
     "data": {
      "text/plain": [
       "'Cato, Wisconsin'"
      ]
     },
     "execution_count": 46,
     "metadata": {},
     "output_type": "execute_result"
    }
   ],
   "source": [
    "# where does our example account live?\n",
    "example_user.location"
   ]
  },
  {
   "cell_type": "code",
   "execution_count": 47,
   "metadata": {},
   "outputs": [
    {
     "data": {
      "text/plain": [
       "'Living my best Veblen life, vicariously.'"
      ]
     },
     "execution_count": 47,
     "metadata": {},
     "output_type": "execute_result"
    }
   ],
   "source": [
    "# what does the description say\n",
    "example_user.description"
   ]
  },
  {
   "cell_type": "code",
   "execution_count": 48,
   "metadata": {},
   "outputs": [
    {
     "name": "stdout",
     "output_type": "stream",
     "text": [
      "The account vicariousveblen has 3 accounts following it.\n",
      "The account vicariousveblen is following 0 accounts.\n"
     ]
    }
   ],
   "source": [
    "# does the account follow anyone or have any friends?\n",
    "print(\"The account \" + str(example_user.name) + \" has \" + str(example_user.followers_count) + \" accounts following it.\")\n",
    "print(\"The account \" + str(example_user.name) + \" is following \" + str(example_user.friends_count) + \" accounts.\")"
   ]
  },
  {
   "cell_type": "markdown",
   "metadata": {},
   "source": [
    "Finally the Twitter API has functionality with which we can look for certain keywords in all of Twitter. We can access this using `tweepy`'s  `search` function. For example, if we wanted to look for tweets using the hashtag '#DigitalMethods', we could search like this."
   ]
  },
  {
   "cell_type": "code",
   "execution_count": 49,
   "metadata": {},
   "outputs": [],
   "source": [
    "digimeth_tweets = api.search(\"#DigitalMethods\")"
   ]
  },
  {
   "cell_type": "markdown",
   "metadata": {},
   "source": [
    "Then, we could look at who tweets about '#DigitalMethods' by parsing the returned data like this."
   ]
  },
  {
   "cell_type": "code",
   "execution_count": 50,
   "metadata": {},
   "outputs": [
    {
     "name": "stdout",
     "output_type": "stream",
     "text": [
      "FDM Hildesheim\n",
      "Andreⓐs Ferus 🌈 🦄 🐶\n",
      "Marie v. Lüneburg\n",
      "K. White\n",
      "eveline wandl-vogt\n",
      "Iian Neill (The Codex)\n",
      "Elisabeth Militz\n",
      "ZfdG\n",
      "Julia Poerting\n",
      "Agiati Benardou\n",
      "mon Rodriguez-Amat\n",
      "mon Rodriguez-Amat\n",
      "Nicolo' Dell'Unto\n",
      "mLab Geography Bern\n",
      "DOS Research Group\n"
     ]
    }
   ],
   "source": [
    "for tweet in digimeth_tweets:\n",
    "    print(tweet._json['user']['name'])"
   ]
  },
  {
   "cell_type": "markdown",
   "metadata": {},
   "source": [
    "**4.1.3.4 Rate limiting:** While we are only working with a few tweets or a limited number of accounts, we will not run into any problems. However, it is good general practice to always keep an eye on the rate limits set on us by the Twitter API. The `tweepy` module provides the function `rate_limit_status` to do so."
   ]
  },
  {
   "cell_type": "code",
   "execution_count": 51,
   "metadata": {},
   "outputs": [],
   "source": [
    "# check our current rate limit status\n",
    "current_limits = api.rate_limit_status()"
   ]
  },
  {
   "cell_type": "markdown",
   "metadata": {},
   "source": [
    "The variable `rate_limit_status` returns is a dictionary, that means it is intuitive to index once we know the keys. The keys that will likely be most important to us relate to searches and users."
   ]
  },
  {
   "cell_type": "code",
   "execution_count": 52,
   "metadata": {},
   "outputs": [
    {
     "data": {
      "text/plain": [
       "{'limit': 900, 'remaining': 900, 'reset': 1582735161}"
      ]
     },
     "execution_count": 52,
     "metadata": {},
     "output_type": "execute_result"
    }
   ],
   "source": [
    "# rate limit on the number of times we can call `get_user` within a 15 minute window\n",
    "current_limits['resources']['users']['/users/lookup']"
   ]
  },
  {
   "cell_type": "code",
   "execution_count": 53,
   "metadata": {},
   "outputs": [
    {
     "data": {
      "text/plain": [
       "{'limit': 900, 'remaining': 899, 'reset': 1582734640}"
      ]
     },
     "execution_count": 53,
     "metadata": {},
     "output_type": "execute_result"
    }
   ],
   "source": [
    "# rate limit on the number of times we can call `user_timeline` within a 15 minute window\n",
    "current_limits['resources']['statuses']['/statuses/user_timeline']"
   ]
  },
  {
   "cell_type": "markdown",
   "metadata": {},
   "source": [
    "## 4.2 Using functions to process data from the Twitter API \n",
    "Now that we know about some of the information that we can gather from Twitter and the structure in which it is returned to us, we can see even more use for defining our own functions. For example, we can combine all the tweets we retrieved for our example account and see what the account is tweeting about most."
   ]
  },
  {
   "cell_type": "code",
   "execution_count": 54,
   "metadata": {},
   "outputs": [],
   "source": [
    "# define the function `user_gist` taking one argument\n",
    "def user_gist(user_timeline):\n",
    "    \n",
    "    # set up empty containers we will need throughout the loop\n",
    "    word_freq = {}\n",
    "    word_list = []\n",
    "    gist = []\n",
    "    \n",
    "    # FIRST, loop through tweets in the timeline\n",
    "    for tweet in example_timeline:\n",
    "        # split up tweets into lists of words\n",
    "        tweet_words = tweet.text.split()\n",
    "        # and combine into one big list using `extend` command\n",
    "        word_list.extend(tweet_words)\n",
    "    \n",
    "    # SECOND, loop through list of words in tweets\n",
    "    for w in word_list:\n",
    "        # add each unique word and its `count` to the dictionary `word_frequency`\n",
    "        if w not in word_freq:\n",
    "            word_freq[w] = word_list.count(w)\n",
    "\n",
    "    #looping through the dictionary and adding each value, key pair to the list\n",
    "    for key in word_freq:\n",
    "        gist.append((word_freq[key], key))\n",
    "\n",
    "    #sorting the list\n",
    "    gist.sort()\n",
    "    #reversing the sort to be largest to smallest\n",
    "    gist.reverse()\n",
    "\n",
    "    #returning the list\n",
    "    return gist\n",
    "        "
   ]
  },
  {
   "cell_type": "code",
   "execution_count": 55,
   "metadata": {},
   "outputs": [
    {
     "data": {
      "text/plain": [
       "[(6, 'the'),\n",
       " (6, 'of'),\n",
       " (3, 'and'),\n",
       " (2, 'to'),\n",
       " (2, 'is'),\n",
       " (2, 'distinction'),\n",
       " (2, 'conspicuous'),\n",
       " (2, 'between'),\n",
       " (1, 'ways'),\n",
       " (1, 'vicarious'),\n",
       " (1, 'rep…'),\n",
       " (1, 'pecuniary'),\n",
       " (1, 'not'),\n",
       " (1, 'norm'),\n",
       " (1, 'manners'),\n",
       " (1, 'living'),\n",
       " (1, 'life'),\n",
       " (1, 'leisure'),\n",
       " (1, 'items'),\n",
       " (1, 'invidious'),\n",
       " (1, 'indicated,'),\n",
       " (1, 'https://t.co/x2O7ALCem3'),\n",
       " (1, 'has'),\n",
       " (1, 'fullness'),\n",
       " (1, 'exploit'),\n",
       " (1, 'enhance,'),\n",
       " (1, 'end'),\n",
       " (1, 'employments.'),\n",
       " (1, 'drudgery'),\n",
       " (1, 'consumption.'),\n",
       " (1, 'consumption'),\n",
       " (1, 'consumer,'),\n",
       " (1, 'conformity'),\n",
       " (1, 'but'),\n",
       " (1, 'been'),\n",
       " (1, 'are'),\n",
       " (1, 'an'),\n",
       " (1, 'already'),\n",
       " (1, 'World!'),\n",
       " (1, 'High-bred'),\n",
       " (1, 'Hello'),\n",
       " (1, 'For'),\n",
       " (1, 'As')]"
      ]
     },
     "execution_count": 55,
     "metadata": {},
     "output_type": "execute_result"
    }
   ],
   "source": [
    "user_gist(example_timeline)"
   ]
  },
  {
   "cell_type": "code",
   "execution_count": null,
   "metadata": {},
   "outputs": [],
   "source": []
  }
 ],
 "metadata": {
  "kernelspec": {
   "display_name": "Python 3",
   "language": "python",
   "name": "python3"
  },
  "language_info": {
   "codemirror_mode": {
    "name": "ipython",
    "version": 3
   },
   "file_extension": ".py",
   "mimetype": "text/x-python",
   "name": "python",
   "nbconvert_exporter": "python",
   "pygments_lexer": "ipython3",
   "version": "3.7.4"
  }
 },
 "nbformat": 4,
 "nbformat_minor": 2
}
