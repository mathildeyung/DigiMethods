{
 "cells": [
  {
   "cell_type": "markdown",
   "metadata": {},
   "source": [
    "# Data preperation for Digital methods course\n",
    "\n",
    "This NB makes a set of different twitter datasets to be used in Digital Methods course.\n",
    "\n",
    "- Co-hashtag network with the 500 most used hastag(to be tested).\n",
    "- Retweet network between the some subset of actors(to be tested).\n",
    "- User - hashtag network. \n",
    "\n",
    "\n",
    "https://networkx.github.io/documentation/stable/tutorial.html\n"
   ]
  },
  {
   "cell_type": "code",
   "execution_count": 6,
   "metadata": {},
   "outputs": [],
   "source": [
    "# import libraries\n",
    "import pandas as pd\n",
    "import networkx as nx\n",
    "import matplotlib as plt\n",
    "%matplotlib inline "
   ]
  },
  {
   "cell_type": "code",
   "execution_count": 7,
   "metadata": {},
   "outputs": [],
   "source": [
    "# import twitter data\n",
    "df = pd.read_csv('/Users/hjalmarbangcarlsen/Københavns Universitet/Thyge Ryom Enggaard - COVID Issue Attention/Data output/Twitter/tweets_df_v1-0_03-26_14-19.csv')"
   ]
  },
  {
   "cell_type": "code",
   "execution_count": 29,
   "metadata": {},
   "outputs": [
    {
     "data": {
      "text/plain": [
       "Index(['Unnamed: 0', 'text', 'post_id', 'weekday', 'month', 'day', 'timestamp',\n",
       "       'datetime', 'hashtags', 'links', 'mentions_names', 'mentions_ids',\n",
       "       'favs', 'retweets', 'replies', 'quotes', 'source', 'post_link',\n",
       "       'coordinates', 'place', 'is_retweet', 'retweet_id', 'retweeted_user',\n",
       "       'retweeted_user_id', 'is_quote', 'quote_id', 'quoted_user',\n",
       "       'quoted_user_id', 'is_reply', 'reply_id', 'reply_to_user',\n",
       "       'reply_to_user_id', 'screen_name', 'user', 'user_id', 'bio',\n",
       "       'followers', 'following', 'listed_count', 'location', 'verified',\n",
       "       'query', 'query_v', 'query_d'],\n",
       "      dtype='object')"
      ]
     },
     "execution_count": 29,
     "metadata": {},
     "output_type": "execute_result"
    }
   ],
   "source": [
    "df.columns"
   ]
  },
  {
   "cell_type": "code",
   "execution_count": null,
   "metadata": {},
   "outputs": [],
   "source": [
    "df"
   ]
  },
  {
   "cell_type": "code",
   "execution_count": 31,
   "metadata": {},
   "outputs": [],
   "source": [
    "# construct retweet edgelist\n",
    "df_retweet = df[df['is_retweet']==1]\n",
    "df_edges = df_retweet[['user','retweeted_user']]\n",
    "df_edges.to_csv('retweet_edges.csv',index=False)"
   ]
  },
  {
   "cell_type": "code",
   "execution_count": 92,
   "metadata": {},
   "outputs": [],
   "source": [
    "# construct reply network\n",
    "df_reply = df[df['is_reply']==1]\n",
    "df_edges_reply = df_reply [['user','reply_to_user']]\n",
    "df_edges_reply.to_csv('reply_edges.csv',index=False)"
   ]
  },
  {
   "cell_type": "code",
   "execution_count": 152,
   "metadata": {},
   "outputs": [
    {
     "ename": "KeyboardInterrupt",
     "evalue": "",
     "output_type": "error",
     "traceback": [
      "\u001b[0;31m---------------------------------------------------------------------------\u001b[0m",
      "\u001b[0;31mKeyboardInterrupt\u001b[0m                         Traceback (most recent call last)",
      "\u001b[0;32m<ipython-input-152-b8ae669a1cff>\u001b[0m in \u001b[0;36m<module>\u001b[0;34m\u001b[0m\n\u001b[1;32m      3\u001b[0m     \u001b[0;32mfor\u001b[0m \u001b[0mhashtags\u001b[0m \u001b[0;32min\u001b[0m \u001b[0mdf\u001b[0m\u001b[0;34m.\u001b[0m\u001b[0mhashtags\u001b[0m\u001b[0;34m:\u001b[0m\u001b[0;34m\u001b[0m\u001b[0;34m\u001b[0m\u001b[0m\n\u001b[1;32m      4\u001b[0m         \u001b[0mhashtags\u001b[0m \u001b[0;34m=\u001b[0m \u001b[0mast\u001b[0m\u001b[0;34m.\u001b[0m\u001b[0mliteral_eval\u001b[0m\u001b[0;34m(\u001b[0m\u001b[0mhashtags\u001b[0m\u001b[0;34m)\u001b[0m\u001b[0;34m\u001b[0m\u001b[0;34m\u001b[0m\u001b[0m\n\u001b[0;32m----> 5\u001b[0;31m         \u001b[0ml\u001b[0m \u001b[0;34m=\u001b[0m \u001b[0;34m[\u001b[0m\u001b[0;34m(\u001b[0m\u001b[0muser\u001b[0m\u001b[0;34m,\u001b[0m\u001b[0mhasht\u001b[0m\u001b[0;34m)\u001b[0m \u001b[0;32mfor\u001b[0m \u001b[0mhasht\u001b[0m \u001b[0;32min\u001b[0m \u001b[0mhashtags\u001b[0m\u001b[0;34m]\u001b[0m\u001b[0;34m\u001b[0m\u001b[0;34m\u001b[0m\u001b[0m\n\u001b[0m\u001b[1;32m      6\u001b[0m     \u001b[0muser_hashtag\u001b[0m\u001b[0;34m.\u001b[0m\u001b[0mextend\u001b[0m\u001b[0;34m(\u001b[0m\u001b[0ml\u001b[0m\u001b[0;34m)\u001b[0m\u001b[0;34m\u001b[0m\u001b[0;34m\u001b[0m\u001b[0m\n",
      "\u001b[0;31mKeyboardInterrupt\u001b[0m: "
     ]
    }
   ],
   "source": [
    "import ast\n",
    "user_hashtag = []\n",
    "for user in df.user:\n",
    "    for hashtags in df.hashtags:\n",
    "        hashtags = ast.literal_eval(hashtags)\n",
    "        l = [(user,hasht) for hasht in hashtags]\n",
    "    user_hashtag.extend(l)"
   ]
  },
  {
   "cell_type": "code",
   "execution_count": 153,
   "metadata": {},
   "outputs": [
    {
     "data": {
      "text/plain": [
       "[('Ørum', 'blivhjemmemøde'),\n",
       " ('Ørum', 'covid19dk'),\n",
       " ('Lisbeth Trinskjær', 'blivhjemmemøde'),\n",
       " ('Lisbeth Trinskjær', 'covid19dk'),\n",
       " ('Jonas Holm', 'blivhjemmemøde'),\n",
       " ('Jonas Holm', 'covid19dk'),\n",
       " ('Frank Rosager', 'blivhjemmemøde'),\n",
       " ('Frank Rosager', 'covid19dk'),\n",
       " ('De Grønne - DKs Grønne Liberale Parti', 'blivhjemmemøde'),\n",
       " ('De Grønne - DKs Grønne Liberale Parti', 'covid19dk'),\n",
       " ('P. Jensen', 'blivhjemmemøde'),\n",
       " ('P. Jensen', 'covid19dk'),\n",
       " ('André Nielsen', 'blivhjemmemøde'),\n",
       " ('André Nielsen', 'covid19dk'),\n",
       " ('Freddy Nielsen', 'blivhjemmemøde'),\n",
       " ('Freddy Nielsen', 'covid19dk'),\n",
       " ('Nicolai', 'blivhjemmemøde'),\n",
       " ('Nicolai', 'covid19dk'),\n",
       " ('Nadia Gullestrup', 'blivhjemmemøde'),\n",
       " ('Nadia Gullestrup', 'covid19dk')]"
      ]
     },
     "execution_count": 153,
     "metadata": {},
     "output_type": "execute_result"
    }
   ],
   "source": [
    "user_hashtag[:20]"
   ]
  },
  {
   "cell_type": "code",
   "execution_count": 151,
   "metadata": {},
   "outputs": [
    {
     "name": "stdout",
     "output_type": "stream",
     "text": [
      "['love', 'denmark', 'danmark', 'copenhagen', 'summer', 'nature', 'hygge', 'københavn', 'peterhjorth', 'klima', 'drivhuseffekt', 'greelandisnotforsale', 'greenland', 'dkpol']\n"
     ]
    },
    {
     "ename": "NameError",
     "evalue": "name 'stop' is not defined",
     "output_type": "error",
     "traceback": [
      "\u001b[0;31m---------------------------------------------------------------------------\u001b[0m",
      "\u001b[0;31mNameError\u001b[0m                                 Traceback (most recent call last)",
      "\u001b[0;32m<ipython-input-151-cb1e84871bfc>\u001b[0m in \u001b[0;36m<module>\u001b[0;34m\u001b[0m\n\u001b[1;32m      4\u001b[0m     \u001b[0;32mif\u001b[0m \u001b[0mlen\u001b[0m\u001b[0;34m(\u001b[0m\u001b[0mhashtags\u001b[0m\u001b[0;34m)\u001b[0m \u001b[0;34m>\u001b[0m \u001b[0;36m10\u001b[0m\u001b[0;34m:\u001b[0m\u001b[0;34m\u001b[0m\u001b[0;34m\u001b[0m\u001b[0m\n\u001b[1;32m      5\u001b[0m         \u001b[0mprint\u001b[0m\u001b[0;34m(\u001b[0m\u001b[0mhashtags\u001b[0m\u001b[0;34m)\u001b[0m\u001b[0;34m\u001b[0m\u001b[0;34m\u001b[0m\u001b[0m\n\u001b[0;32m----> 6\u001b[0;31m         \u001b[0mstop\u001b[0m\u001b[0;34m\u001b[0m\u001b[0;34m\u001b[0m\u001b[0m\n\u001b[0m\u001b[1;32m      7\u001b[0m     \u001b[0;32melse\u001b[0m\u001b[0;34m:\u001b[0m\u001b[0;34m\u001b[0m\u001b[0;34m\u001b[0m\u001b[0m\n\u001b[1;32m      8\u001b[0m         \u001b[0;32mcontinue\u001b[0m\u001b[0;34m\u001b[0m\u001b[0;34m\u001b[0m\u001b[0m\n",
      "\u001b[0;31mNameError\u001b[0m: name 'stop' is not defined"
     ]
    }
   ],
   "source": [
    "import ast\n",
    "for hashtags in df.hashtags:\n",
    "    hashtags = ast.literal_eval(hashtags)\n",
    "    if len(hashtags) > 10:\n",
    "        print(hashtags)\n",
    "        stop\n",
    "    else: \n",
    "        continue"
   ]
  },
  {
   "cell_type": "code",
   "execution_count": 141,
   "metadata": {},
   "outputs": [
    {
     "name": "stdout",
     "output_type": "stream",
     "text": [
      "[(\"dkpol'\", \" 'dkcivil'\"), (\"dkpol'\", \" 'spejder\"), (\" 'dkcivil'\", \" 'spejder\")]\n"
     ]
    },
    {
     "ename": "NameError",
     "evalue": "name 'stop' is not defined",
     "output_type": "error",
     "traceback": [
      "\u001b[0;31m---------------------------------------------------------------------------\u001b[0m",
      "\u001b[0;31mNameError\u001b[0m                                 Traceback (most recent call last)",
      "\u001b[0;32m<ipython-input-141-d74228f25063>\u001b[0m in \u001b[0;36m<module>\u001b[0;34m\u001b[0m\n\u001b[1;32m      6\u001b[0m         \u001b[0mG\u001b[0m \u001b[0;34m=\u001b[0m \u001b[0mnx\u001b[0m\u001b[0;34m.\u001b[0m\u001b[0mcomplete_graph\u001b[0m\u001b[0;34m(\u001b[0m\u001b[0mhashtags\u001b[0m\u001b[0;34m)\u001b[0m\u001b[0;34m\u001b[0m\u001b[0;34m\u001b[0m\u001b[0m\n\u001b[1;32m      7\u001b[0m         \u001b[0mprint\u001b[0m\u001b[0;34m(\u001b[0m\u001b[0mG\u001b[0m\u001b[0;34m.\u001b[0m\u001b[0medges\u001b[0m\u001b[0;34m(\u001b[0m\u001b[0;34m)\u001b[0m\u001b[0;34m)\u001b[0m\u001b[0;34m\u001b[0m\u001b[0;34m\u001b[0m\u001b[0m\n\u001b[0;32m----> 8\u001b[0;31m         \u001b[0mstop\u001b[0m\u001b[0;34m\u001b[0m\u001b[0;34m\u001b[0m\u001b[0m\n\u001b[0m\u001b[1;32m      9\u001b[0m \u001b[0;31m#df_reply = df[df['is_reply']==1]\u001b[0m\u001b[0;34m\u001b[0m\u001b[0;34m\u001b[0m\u001b[0;34m\u001b[0m\u001b[0m\n\u001b[1;32m     10\u001b[0m \u001b[0;31m#df_edges_reply = df_reply [['user','reply_to_user']]\u001b[0m\u001b[0;34m\u001b[0m\u001b[0;34m\u001b[0m\u001b[0;34m\u001b[0m\u001b[0m\n",
      "\u001b[0;31mNameError\u001b[0m: name 'stop' is not defined"
     ]
    }
   ],
   "source": [
    "# construct user-hashtag network\n",
    "for hashtags in df.hashtags:\n",
    "    hashtags = hashtags.strip(\"[]\").strip(\"'\").split(',')\n",
    "    \n",
    "    if len(hashtags) > 1:\n",
    "        G = nx.complete_graph(hashtags)\n",
    "        print(G.edges())\n",
    "        stop\n",
    "#df_reply = df[df['is_reply']==1]\n",
    "#df_edges_reply = df_reply [['user','reply_to_user']]\n",
    "#df_edges_reply.to_csv('reply_edges.csv',index=False)"
   ]
  },
  {
   "cell_type": "code",
   "execution_count": 138,
   "metadata": {},
   "outputs": [
    {
     "data": {
      "text/plain": [
       "EdgeView([(\"dkpol'\", \" 'dkcivil'\"), (\"dkpol'\", \" 'spejder\"), (\" 'dkcivil'\", \" 'spejder\")])"
      ]
     },
     "execution_count": 138,
     "metadata": {},
     "output_type": "execute_result"
    }
   ],
   "source": [
    "G.edges()"
   ]
  },
  {
   "cell_type": "markdown",
   "metadata": {},
   "source": [
    "# Retweet network\n",
    "\n",
    "We will import a dataframe of retweets. Make it into a list of edges that networkx can transform into a network. We will then calculate indegree and inspect the most retweeted actors in the corona issue. \n",
    "\n",
    "We will likewise calculate the out degree to see who is spreading the word/spamming or sharing."
   ]
  },
  {
   "cell_type": "code",
   "execution_count": null,
   "metadata": {},
   "outputs": [],
   "source": [
    "# importing retweet edges list. 'user' is the one \n",
    "# twitting and 'retweeted_user' is being retweeted.\n",
    "df_retweet_edges = pd.read_csv('retweet_edges.csv')"
   ]
  },
  {
   "cell_type": "code",
   "execution_count": 45,
   "metadata": {},
   "outputs": [],
   "source": [
    "# using pandas groupby to get a calculate how many times a user retweets another user. \n",
    "df_edges_w = df_edges.groupby(['user','retweeted_user']).size().reset_index()"
   ]
  },
  {
   "cell_type": "code",
   "execution_count": 24,
   "metadata": {},
   "outputs": [],
   "source": [
    "# pandas to_records transforms a dataframe into a list of truples, which networkx can work with\n",
    "edges = df_edges.to_records(index=False)"
   ]
  },
  {
   "cell_type": "code",
   "execution_count": null,
   "metadata": {},
   "outputs": [],
   "source": [
    "# Construct a directed graph\n",
    "digraph = nx.DiGraph()"
   ]
  },
  {
   "cell_type": "code",
   "execution_count": 26,
   "metadata": {},
   "outputs": [],
   "source": [
    "# A directed graph takes an list of tuples.\n",
    "digraph.add_edges_from(edges)"
   ]
  },
  {
   "cell_type": "code",
   "execution_count": 27,
   "metadata": {},
   "outputs": [],
   "source": [
    "# return number of nodes\n",
    "digraph.number_of_nodes()"
   ]
  },
  {
   "cell_type": "code",
   "execution_count": 34,
   "metadata": {},
   "outputs": [
    {
     "data": {
      "text/plain": [
       "64845"
      ]
     },
     "execution_count": 34,
     "metadata": {},
     "output_type": "execute_result"
    }
   ],
   "source": [
    "# return number of edges in graph\n",
    "digraph.number_of_edges()"
   ]
  },
  {
   "cell_type": "code",
   "execution_count": 71,
   "metadata": {},
   "outputs": [],
   "source": [
    "# Calculate indegree and turn into a dictionary\n",
    "indegree = digraph.in_degree()\n",
    "indegree_d = dict(indegree)"
   ]
  },
  {
   "cell_type": "code",
   "execution_count": 72,
   "metadata": {},
   "outputs": [],
   "source": [
    "# Turn in_degree into a series\n",
    "indegree_s = pd.Series(indegree_d)"
   ]
  },
  {
   "cell_type": "code",
   "execution_count": 73,
   "metadata": {},
   "outputs": [
    {
     "data": {
      "text/plain": [
       "eurhostia          6462\n",
       "CensoredJules      4193\n",
       "thronesfacts       1495\n",
       "CBSNews            1352\n",
       "uffeelbaek         1061\n",
       "regeringDK         1030\n",
       "ANI                 924\n",
       "SSTSundhed          824\n",
       "Rigspoliti          775\n",
       "boskkkk             743\n",
       "M_B_Petersen        668\n",
       "Heunicke            662\n",
       "JonasSchroder       641\n",
       "MBrgger             545\n",
       "AndersLadekarl      521\n",
       "SSI_dk              501\n",
       "KobenhavnPoliti     492\n",
       "KashifAhmadDK       473\n",
       "pelledragsted       464\n",
       "WaseemBadami        442\n",
       "dtype: int64"
      ]
     },
     "execution_count": 73,
     "metadata": {},
     "output_type": "execute_result"
    }
   ],
   "source": [
    "# View most retweeted users for qualitative insepction. \n",
    "indegree_s.nlargest(20)"
   ]
  },
  {
   "cell_type": "code",
   "execution_count": 74,
   "metadata": {},
   "outputs": [
    {
     "data": {
      "text/plain": [
       "count    64845.000000\n",
       "mean         2.016516\n",
       "std         35.259926\n",
       "min          0.000000\n",
       "25%          0.000000\n",
       "50%          0.000000\n",
       "75%          0.000000\n",
       "max       6462.000000\n",
       "dtype: float64"
      ]
     },
     "execution_count": 74,
     "metadata": {},
     "output_type": "execute_result"
    }
   ],
   "source": [
    "# Quick describtion of the indegree distribtion. \n",
    "indegree_s.describe()"
   ]
  },
  {
   "cell_type": "code",
   "execution_count": 81,
   "metadata": {},
   "outputs": [],
   "source": [
    "# Calculate outdegree and turn into a dictionary\n",
    "outdegree = digraph.out_degree()\n",
    "outdegree_d = dict(outdegree)"
   ]
  },
  {
   "cell_type": "code",
   "execution_count": 84,
   "metadata": {},
   "outputs": [],
   "source": [
    "# Turn out_degree into a series\n",
    "outdegree_s = pd.Series(outdegree_d)"
   ]
  },
  {
   "cell_type": "code",
   "execution_count": 85,
   "metadata": {},
   "outputs": [
    {
     "data": {
      "text/plain": [
       "Tɯitterhjerne         1091\n",
       "Michaela Rousing ❄     851\n",
       "Politik Papegøjen🦜     736\n",
       "Bibsen 🍀🌿🍃🌱            479\n",
       "Rasmus Kongshøj        422\n",
       "Gitte K. Persson       413\n",
       "Pip fra journalist     410\n",
       "Henrik Brinels         350\n",
       "Kristian Erik Munk     344\n",
       "Annett Rios            271\n",
       "dtype: int64"
      ]
     },
     "execution_count": 85,
     "metadata": {},
     "output_type": "execute_result"
    }
   ],
   "source": [
    "# View most retweeting users for qualitative insepction. \n",
    "outdegree_s.nlargest(10)"
   ]
  },
  {
   "cell_type": "code",
   "execution_count": 86,
   "metadata": {},
   "outputs": [
    {
     "data": {
      "text/plain": [
       "count    64845.000000\n",
       "mean         2.016516\n",
       "std          9.779821\n",
       "min          0.000000\n",
       "25%          1.000000\n",
       "50%          1.000000\n",
       "75%          1.000000\n",
       "max       1091.000000\n",
       "dtype: float64"
      ]
     },
     "execution_count": 86,
     "metadata": {},
     "output_type": "execute_result"
    }
   ],
   "source": [
    "outdegree_s.describe()"
   ]
  },
  {
   "cell_type": "markdown",
   "metadata": {},
   "source": [
    "# Reply network\n",
    "\n",
    "We will import csv on reply into a dataframe. Make it into a list of edges that networkx can transform into a network. We will then calculate indegree and inspect the most talked to actors in the corona issue. \n",
    "\n",
    "We will likewise calculate the out degree to see who is the most dialogical actors in the Twitter corona issue public."
   ]
  },
  {
   "cell_type": "code",
   "execution_count": 97,
   "metadata": {},
   "outputs": [],
   "source": [
    "# importing retweet edges list. 'user' is the one \n",
    "# twitting and 'retweeted_user' is being retweeted.\n",
    "df_reply_edges = pd.read_csv('reply_edges.csv')\n"
   ]
  },
  {
   "cell_type": "code",
   "execution_count": 107,
   "metadata": {},
   "outputs": [],
   "source": [
    "reply_edges = df_reply_edges.to_records(index=False)\n",
    "digraph_reply = nx.DiGraph()\n",
    "digraph_reply.add_edges_from(reply_edges)"
   ]
  },
  {
   "cell_type": "code",
   "execution_count": 108,
   "metadata": {},
   "outputs": [],
   "source": [
    "# Calculate indegree and turn into a dictionary\n",
    "indegree_reply = digraph_reply.in_degree()\n",
    "indegree_reply_d = dict(indegree_reply)\n",
    "\n",
    "# from dict to series\n",
    "indegree_reply_s = pd.Series(indegree_reply_d) "
   ]
  },
  {
   "cell_type": "code",
   "execution_count": 110,
   "metadata": {},
   "outputs": [
    {
     "data": {
      "text/plain": [
       "PaulaLarrain1      356\n",
       "skaarup_df         347\n",
       "MBrgger            335\n",
       "R4nd4hl            323\n",
       "pelledragsted      310\n",
       "                  ... \n",
       "ThomasFunding       75\n",
       "Tinnehjersing       74\n",
       "ammitzbollbille     73\n",
       "kjellerupbiz        72\n",
       "Fedeabe             71\n",
       "Length: 100, dtype: int64"
      ]
     },
     "execution_count": 110,
     "metadata": {},
     "output_type": "execute_result"
    }
   ],
   "source": [
    "indegree_reply_s.nlargest(100)"
   ]
  },
  {
   "cell_type": "code",
   "execution_count": 111,
   "metadata": {},
   "outputs": [
    {
     "data": {
      "text/plain": [
       "count    37085.000000\n",
       "mean         1.823001\n",
       "std          9.321350\n",
       "min          0.000000\n",
       "25%          0.000000\n",
       "50%          0.000000\n",
       "75%          1.000000\n",
       "max        356.000000\n",
       "dtype: float64"
      ]
     },
     "execution_count": 111,
     "metadata": {},
     "output_type": "execute_result"
    }
   ],
   "source": [
    "indegree_reply_s.describe()"
   ]
  },
  {
   "cell_type": "code",
   "execution_count": 112,
   "metadata": {},
   "outputs": [],
   "source": [
    "# Calculate outdegree and turn into a dictionary\n",
    "outdegree_reply = digraph_reply.out_degree()\n",
    "outdegree_reply_d = dict(outdegree_reply)\n",
    "\n",
    "# from dict to series\n",
    "outdegree_reply_s = pd.Series(outdegree_reply_d) "
   ]
  },
  {
   "cell_type": "code",
   "execution_count": 116,
   "metadata": {},
   "outputs": [
    {
     "data": {
      "text/plain": [
       "Bibsen 🍀🌿🍃🌱                   199\n",
       "Frihed                        189\n",
       "Ronnie Hofs                   187\n",
       "Birk                          155\n",
       "Ole Futtrup                   147\n",
       "Jesper Lund                   145\n",
       "Paula Larrain ❤️              135\n",
       "Freja Wirlander #FBPE         131\n",
       "Charlotte Elkjær Rasmussen    129\n",
       "Mick                          125\n",
       "Erik Høgh-Sørensen            125\n",
       "john burmeister               121\n",
       "Børge H Kristensen            120\n",
       "Lars Arne Christensen 💚💪      117\n",
       "DanmarksFremtid.dk            117\n",
       "Thomas                        113\n",
       "IamMe                         112\n",
       "Stine Linnemann               110\n",
       "Rasmus Malver                 109\n",
       "Søren Svendsen                107\n",
       "dtype: int64"
      ]
     },
     "execution_count": 116,
     "metadata": {},
     "output_type": "execute_result"
    }
   ],
   "source": [
    "outdegree_reply_s.nlargest(20)"
   ]
  },
  {
   "cell_type": "markdown",
   "metadata": {},
   "source": [
    "# Hashtag network\n",
    "\n",
    "We will import csv on hashtags-user relations into a dataframe. Make it into a list of edges that networkx can transform into a network. We will then calculate indegree and inspect the most talked to actors in the corona issue. \n",
    "\n",
    "We will likewise calculate the out degree to see who is the most dialogical actors in the Twitter corona issue public."
   ]
  }
 ],
 "metadata": {
  "kernelspec": {
   "display_name": "Python 3",
   "language": "python",
   "name": "python3"
  },
  "language_info": {
   "codemirror_mode": {
    "name": "ipython",
    "version": 3
   },
   "file_extension": ".py",
   "mimetype": "text/x-python",
   "name": "python",
   "nbconvert_exporter": "python",
   "pygments_lexer": "ipython3",
   "version": "3.6.10"
  }
 },
 "nbformat": 4,
 "nbformat_minor": 4
}
