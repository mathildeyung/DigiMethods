{
 "cells": [
  {
   "cell_type": "markdown",
   "metadata": {},
   "source": [
    "# Data formats and open data\n",
    "**Exercises for week 4B** in Digital Methods, University of Copenhagen"
   ]
  },
  {
   "cell_type": "code",
   "execution_count": null,
   "metadata": {},
   "outputs": [],
   "source": [
    "# DATA FORMATS AND OPEN DATA 28 FEBRUARY 2020\n",
    "\n",
    "# DATA FORMATS\n",
    "\n",
    "# Data can be stored in three main classes - 1. tabular (CSV), 2. non-tabular (JSON, XML), \n",
    "# 3. Associative (Networks)\n",
    "\n",
    "# Tabular data types usually always end in sv( sv = separated data, CSV = comma separated values). Often \n",
    "# raw data is not stored in this format.\n",
    "# Inconsistencies and missing data are not assumed\n",
    "\n",
    "# Non-tabular data formats are usually JSON and XML (even though people don't really use this anymore )/HTML\n",
    "# Nested data in dictionaries --> data tree. Relatively raw from source.\n",
    "# Inconsistencies and missing data are assumed\n",
    "\n",
    "# OPEN DATA\n",
    "\n",
    "# People share data for a variety of reasons - public good, research etc. \n",
    "# There are two ways to offer up data - 1. through and API, 2. As a downloadable file\n",
    "# Examples: OpenStreetMap, City data e.g. Chicago, Copenhagen, Political data e.g. votes, Research data, e.g.\n",
    "# social patters project, supreme court citation network data, Corona viridae, Competition data e.g. kaggle.com,\n",
    "# Transactional data e.g. block chain and bit coin"
   ]
  },
  {
   "cell_type": "markdown",
   "metadata": {},
   "source": [
    "## 1. Data formats"
   ]
  },
  {
   "cell_type": "markdown",
   "metadata": {},
   "source": [
    "We will be working with two main types of data formats: tabular and non-tabular. In 99% of practical scenarios\n",
    "that translates to files in either CSV format (tabular) or JSON format (non-tabular)."
   ]
  },
  {
   "cell_type": "markdown",
   "metadata": {},
   "source": [
    "### 1.1 Tabular data"
   ]
  },
  {
   "cell_type": "markdown",
   "metadata": {},
   "source": [
    "> **Ex. 1**: Download [this file](https://www.dropbox.com/s/8ntns0td580be3i/output_got.csv?dl=0) and load it as a list\n",
    "of lists. Print the first 10 lines, as well as the total number of lines."
   ]
  },
  {
   "cell_type": "code",
   "execution_count": 14,
   "metadata": {},
   "outputs": [
    {
     "data": {
      "text/plain": [
       "101"
      ]
     },
     "execution_count": 14,
     "metadata": {},
     "output_type": "execute_result"
    }
   ],
   "source": [
    "import csv\n",
    "\n",
    "row_list = []\n",
    "\n",
    "f = open ('output_got.csv', 'r')\n",
    "reader = csv.reader(f)\n",
    "for row in reader: \n",
    "    row_list.append(row)\n",
    "f.close() \n",
    "\n",
    "row_list[0:11]\n",
    "\n",
    "len(row_list)"
   ]
  },
  {
   "cell_type": "markdown",
   "metadata": {},
   "source": [
    "> **Ex. 2**: Load the same file into a `pandas.DataFrame`. What do you think it describes, and can you characterize\n",
    "it just from a glance? What would be some things we could investigate about this data?\n",
    ">\n",
    "> *Hint: To load a csv as a pandas dataframe you can `import pandas as pd` (if you do not have it installed, run `pip install pandas`\n",
    "in your terminal/command prompt) and load it using [`pd.read_csv`](https://pandas.pydata.org/pandas-docs/stable/reference/api/pandas.read_csv.html).*"
   ]
  },
  {
   "cell_type": "code",
   "execution_count": 21,
   "metadata": {},
   "outputs": [],
   "source": [
    "import pandas as pd"
   ]
  },
  {
   "cell_type": "code",
   "execution_count": 22,
   "metadata": {},
   "outputs": [
    {
     "data": {
      "text/html": [
       "<div>\n",
       "<style scoped>\n",
       "    .dataframe tbody tr th:only-of-type {\n",
       "        vertical-align: middle;\n",
       "    }\n",
       "\n",
       "    .dataframe tbody tr th {\n",
       "        vertical-align: top;\n",
       "    }\n",
       "\n",
       "    .dataframe thead th {\n",
       "        text-align: right;\n",
       "    }\n",
       "</style>\n",
       "<table border=\"1\" class=\"dataframe\">\n",
       "  <thead>\n",
       "    <tr style=\"text-align: right;\">\n",
       "      <th></th>\n",
       "      <th>date</th>\n",
       "      <th>username</th>\n",
       "      <th>to</th>\n",
       "      <th>replies</th>\n",
       "      <th>retweets</th>\n",
       "      <th>favorites</th>\n",
       "      <th>text</th>\n",
       "      <th>geo</th>\n",
       "      <th>mentions</th>\n",
       "      <th>hashtags</th>\n",
       "      <th>id</th>\n",
       "      <th>permalink</th>\n",
       "    </tr>\n",
       "  </thead>\n",
       "  <tbody>\n",
       "    <tr>\n",
       "      <td>0</td>\n",
       "      <td>2020-02-28 08:15:19</td>\n",
       "      <td>raebengala</td>\n",
       "      <td>NaN</td>\n",
       "      <td>0</td>\n",
       "      <td>0</td>\n",
       "      <td>0</td>\n",
       "      <td>Per tranquillizzarci ci dicono che morti #coro...</td>\n",
       "      <td>NaN</td>\n",
       "      <td>NaN</td>\n",
       "      <td>#coronavirus #anziani #COVID2019</td>\n",
       "      <td>1233304662671069184</td>\n",
       "      <td>https://twitter.com/raebengala/status/12333046...</td>\n",
       "    </tr>\n",
       "    <tr>\n",
       "      <td>1</td>\n",
       "      <td>2020-02-28 08:15:19</td>\n",
       "      <td>martin_lainez</td>\n",
       "      <td>NaN</td>\n",
       "      <td>0</td>\n",
       "      <td>0</td>\n",
       "      <td>0</td>\n",
       "      <td>El sevillano con coronavirus: «Mando un mensaj...</td>\n",
       "      <td>NaN</td>\n",
       "      <td>@abcdesevilla @RamonRomanR</td>\n",
       "      <td>#vca</td>\n",
       "      <td>1233304662092152832</td>\n",
       "      <td>https://twitter.com/martin_lainez/status/12333...</td>\n",
       "    </tr>\n",
       "    <tr>\n",
       "      <td>2</td>\n",
       "      <td>2020-02-28 08:15:19</td>\n",
       "      <td>Davenews5</td>\n",
       "      <td>NaN</td>\n",
       "      <td>0</td>\n",
       "      <td>0</td>\n",
       "      <td>0</td>\n",
       "      <td>#HDPROS Frontières/coronavirus : contrôler les...</td>\n",
       "      <td>NaN</td>\n",
       "      <td>NaN</td>\n",
       "      <td>#HDPROS #Minable #Irresponsable</td>\n",
       "      <td>1233304660473151488</td>\n",
       "      <td>https://twitter.com/Davenews5/status/123330466...</td>\n",
       "    </tr>\n",
       "    <tr>\n",
       "      <td>3</td>\n",
       "      <td>2020-02-28 08:15:19</td>\n",
       "      <td>nnoeliaperez</td>\n",
       "      <td>NaN</td>\n",
       "      <td>0</td>\n",
       "      <td>0</td>\n",
       "      <td>0</td>\n",
       "      <td>No quiero ser alarmista pero VAMOS A MORIR ALF...</td>\n",
       "      <td>NaN</td>\n",
       "      <td>NaN</td>\n",
       "      <td>NaN</td>\n",
       "      <td>1233304660188041216</td>\n",
       "      <td>https://twitter.com/nnoeliaperez/status/123330...</td>\n",
       "    </tr>\n",
       "    <tr>\n",
       "      <td>4</td>\n",
       "      <td>2020-02-28 08:15:19</td>\n",
       "      <td>paulstpancras</td>\n",
       "      <td>NaN</td>\n",
       "      <td>0</td>\n",
       "      <td>0</td>\n",
       "      <td>0</td>\n",
       "      <td>Why Trump is secretly terrified of coronavirus...</td>\n",
       "      <td>NaN</td>\n",
       "      <td>NaN</td>\n",
       "      <td>NaN</td>\n",
       "      <td>1233304659156180994</td>\n",
       "      <td>https://twitter.com/paulstpancras/status/12333...</td>\n",
       "    </tr>\n",
       "    <tr>\n",
       "      <td>...</td>\n",
       "      <td>...</td>\n",
       "      <td>...</td>\n",
       "      <td>...</td>\n",
       "      <td>...</td>\n",
       "      <td>...</td>\n",
       "      <td>...</td>\n",
       "      <td>...</td>\n",
       "      <td>...</td>\n",
       "      <td>...</td>\n",
       "      <td>...</td>\n",
       "      <td>...</td>\n",
       "      <td>...</td>\n",
       "    </tr>\n",
       "    <tr>\n",
       "      <td>95</td>\n",
       "      <td>2020-02-28 08:15:04</td>\n",
       "      <td>92Andrianiutari</td>\n",
       "      <td>NaN</td>\n",
       "      <td>0</td>\n",
       "      <td>0</td>\n",
       "      <td>0</td>\n",
       "      <td>“Aksi Kemanusiaan mengantisipasi virus corona,...</td>\n",
       "      <td>NaN</td>\n",
       "      <td>NaN</td>\n",
       "      <td>#BersamaCegahCoronapic</td>\n",
       "      <td>1233304599550758913</td>\n",
       "      <td>https://twitter.com/92Andrianiutari/status/123...</td>\n",
       "    </tr>\n",
       "    <tr>\n",
       "      <td>96</td>\n",
       "      <td>2020-02-28 08:15:04</td>\n",
       "      <td>TheRealOlaDiab</td>\n",
       "      <td>NaN</td>\n",
       "      <td>0</td>\n",
       "      <td>0</td>\n",
       "      <td>0</td>\n",
       "      <td>No coronavirus cases in #Qatar and risk is cur...</td>\n",
       "      <td>NaN</td>\n",
       "      <td>NaN</td>\n",
       "      <td>#Qatar</td>\n",
       "      <td>1233304598305214464</td>\n",
       "      <td>https://twitter.com/TheRealOlaDiab/status/1233...</td>\n",
       "    </tr>\n",
       "    <tr>\n",
       "      <td>97</td>\n",
       "      <td>2020-02-28 08:15:04</td>\n",
       "      <td>TMZ</td>\n",
       "      <td>NaN</td>\n",
       "      <td>0</td>\n",
       "      <td>0</td>\n",
       "      <td>1</td>\n",
       "      <td>Ski World Cup Finals In Italy Bans Spectators ...</td>\n",
       "      <td>NaN</td>\n",
       "      <td>NaN</td>\n",
       "      <td>NaN</td>\n",
       "      <td>1233304597650956290</td>\n",
       "      <td>https://twitter.com/TMZ/status/123330459765095...</td>\n",
       "    </tr>\n",
       "    <tr>\n",
       "      <td>98</td>\n",
       "      <td>2020-02-28 08:15:04</td>\n",
       "      <td>SpeedBird_NCL</td>\n",
       "      <td>NaN</td>\n",
       "      <td>0</td>\n",
       "      <td>0</td>\n",
       "      <td>0</td>\n",
       "      <td>Spreading coronavirus is making some American ...</td>\n",
       "      <td>NaN</td>\n",
       "      <td>NaN</td>\n",
       "      <td>#Aviation #Airlines #COVID19 #Coronavirus</td>\n",
       "      <td>1233304597172772865</td>\n",
       "      <td>https://twitter.com/SpeedBird_NCL/status/12333...</td>\n",
       "    </tr>\n",
       "    <tr>\n",
       "      <td>99</td>\n",
       "      <td>2020-02-28 08:15:03</td>\n",
       "      <td>blueit_news</td>\n",
       "      <td>NaN</td>\n",
       "      <td>0</td>\n",
       "      <td>0</td>\n",
       "      <td>0</td>\n",
       "      <td>#Smart_working, da necessità a #chance di #inn...</td>\n",
       "      <td>NaN</td>\n",
       "      <td>@Cor_Comhttps</td>\n",
       "      <td>#Smart_working #chance #innovazione #Italia #C...</td>\n",
       "      <td>1233304595016888320</td>\n",
       "      <td>https://twitter.com/blueit_news/status/1233304...</td>\n",
       "    </tr>\n",
       "  </tbody>\n",
       "</table>\n",
       "<p>100 rows × 12 columns</p>\n",
       "</div>"
      ],
      "text/plain": [
       "                   date         username   to  replies  retweets  favorites  \\\n",
       "0   2020-02-28 08:15:19       raebengala  NaN        0         0          0   \n",
       "1   2020-02-28 08:15:19    martin_lainez  NaN        0         0          0   \n",
       "2   2020-02-28 08:15:19        Davenews5  NaN        0         0          0   \n",
       "3   2020-02-28 08:15:19     nnoeliaperez  NaN        0         0          0   \n",
       "4   2020-02-28 08:15:19    paulstpancras  NaN        0         0          0   \n",
       "..                  ...              ...  ...      ...       ...        ...   \n",
       "95  2020-02-28 08:15:04  92Andrianiutari  NaN        0         0          0   \n",
       "96  2020-02-28 08:15:04   TheRealOlaDiab  NaN        0         0          0   \n",
       "97  2020-02-28 08:15:04              TMZ  NaN        0         0          1   \n",
       "98  2020-02-28 08:15:04    SpeedBird_NCL  NaN        0         0          0   \n",
       "99  2020-02-28 08:15:03      blueit_news  NaN        0         0          0   \n",
       "\n",
       "                                                 text  geo  \\\n",
       "0   Per tranquillizzarci ci dicono che morti #coro...  NaN   \n",
       "1   El sevillano con coronavirus: «Mando un mensaj...  NaN   \n",
       "2   #HDPROS Frontières/coronavirus : contrôler les...  NaN   \n",
       "3   No quiero ser alarmista pero VAMOS A MORIR ALF...  NaN   \n",
       "4   Why Trump is secretly terrified of coronavirus...  NaN   \n",
       "..                                                ...  ...   \n",
       "95  “Aksi Kemanusiaan mengantisipasi virus corona,...  NaN   \n",
       "96  No coronavirus cases in #Qatar and risk is cur...  NaN   \n",
       "97  Ski World Cup Finals In Italy Bans Spectators ...  NaN   \n",
       "98  Spreading coronavirus is making some American ...  NaN   \n",
       "99  #Smart_working, da necessità a #chance di #inn...  NaN   \n",
       "\n",
       "                      mentions  \\\n",
       "0                          NaN   \n",
       "1   @abcdesevilla @RamonRomanR   \n",
       "2                          NaN   \n",
       "3                          NaN   \n",
       "4                          NaN   \n",
       "..                         ...   \n",
       "95                         NaN   \n",
       "96                         NaN   \n",
       "97                         NaN   \n",
       "98                         NaN   \n",
       "99               @Cor_Comhttps   \n",
       "\n",
       "                                             hashtags                   id  \\\n",
       "0                    #coronavirus #anziani #COVID2019  1233304662671069184   \n",
       "1                                                #vca  1233304662092152832   \n",
       "2                     #HDPROS #Minable #Irresponsable  1233304660473151488   \n",
       "3                                                 NaN  1233304660188041216   \n",
       "4                                                 NaN  1233304659156180994   \n",
       "..                                                ...                  ...   \n",
       "95                             #BersamaCegahCoronapic  1233304599550758913   \n",
       "96                                             #Qatar  1233304598305214464   \n",
       "97                                                NaN  1233304597650956290   \n",
       "98          #Aviation #Airlines #COVID19 #Coronavirus  1233304597172772865   \n",
       "99  #Smart_working #chance #innovazione #Italia #C...  1233304595016888320   \n",
       "\n",
       "                                            permalink  \n",
       "0   https://twitter.com/raebengala/status/12333046...  \n",
       "1   https://twitter.com/martin_lainez/status/12333...  \n",
       "2   https://twitter.com/Davenews5/status/123330466...  \n",
       "3   https://twitter.com/nnoeliaperez/status/123330...  \n",
       "4   https://twitter.com/paulstpancras/status/12333...  \n",
       "..                                                ...  \n",
       "95  https://twitter.com/92Andrianiutari/status/123...  \n",
       "96  https://twitter.com/TheRealOlaDiab/status/1233...  \n",
       "97  https://twitter.com/TMZ/status/123330459765095...  \n",
       "98  https://twitter.com/SpeedBird_NCL/status/12333...  \n",
       "99  https://twitter.com/blueit_news/status/1233304...  \n",
       "\n",
       "[100 rows x 12 columns]"
      ]
     },
     "execution_count": 22,
     "metadata": {},
     "output_type": "execute_result"
    }
   ],
   "source": [
    "pd.read_csv('output_got.csv')"
   ]
  },
  {
   "cell_type": "code",
   "execution_count": null,
   "metadata": {},
   "outputs": [],
   "source": [
    "# You can run terminal commands by using the !the command"
   ]
  },
  {
   "cell_type": "markdown",
   "metadata": {},
   "source": [
    "> **Ex. 3**: Are there missing values in the data? How does `pandas` handle these? Can we remedy missing values in\n",
    "any way?"
   ]
  },
  {
   "cell_type": "code",
   "execution_count": 23,
   "metadata": {},
   "outputs": [],
   "source": [
    "# NaN = not a number => not applicable. And yes, but it depends on what you want to do with it "
   ]
  },
  {
   "cell_type": "markdown",
   "metadata": {},
   "source": [
    "> ***If you are motivated***: Install [GetOldTweets3](https://pypi.org/project/GetOldTweets3/). Use it to download\n",
    "a dataset of tweets about Corona virus originating from Denmark (or in Danish). Print a handful of tweets and summarize the discourse."
   ]
  },
  {
   "cell_type": "code",
   "execution_count": 24,
   "metadata": {},
   "outputs": [
    {
     "name": "stdout",
     "output_type": "stream",
     "text": [
      "Collecting GetOldTweets3\n",
      "  Downloading https://files.pythonhosted.org/packages/ed/f4/a00c2a7c90801abc875325bb5416ce9090ac86d06a00cc887131bd73ba45/GetOldTweets3-0.0.11-py3-none-any.whl\n",
      "Collecting pyquery>=1.2.10 (from GetOldTweets3)\n",
      "  Downloading https://files.pythonhosted.org/packages/78/43/95d42e386c61cb639d1a0b94f0c0b9f0b7d6b981ad3c043a836c8b5bc68b/pyquery-1.4.1-py2.py3-none-any.whl\n",
      "Requirement already satisfied: lxml>=3.5.0 in /Users/mathildemeiling/opt/anaconda3/lib/python3.7/site-packages (from GetOldTweets3) (4.4.1)\n",
      "Collecting cssselect>0.7.9 (from pyquery>=1.2.10->GetOldTweets3)\n",
      "  Downloading https://files.pythonhosted.org/packages/3b/d4/3b5c17f00cce85b9a1e6f91096e1cc8e8ede2e1be8e96b87ce1ed09e92c5/cssselect-1.1.0-py2.py3-none-any.whl\n",
      "Installing collected packages: cssselect, pyquery, GetOldTweets3\n",
      "Successfully installed GetOldTweets3-0.0.11 cssselect-1.1.0 pyquery-1.4.1\n"
     ]
    }
   ],
   "source": [
    "!pip install GetOldTweets3"
   ]
  },
  {
   "cell_type": "code",
   "execution_count": 29,
   "metadata": {},
   "outputs": [],
   "source": [
    "import GetOldTweets3 as got"
   ]
  },
  {
   "cell_type": "code",
   "execution_count": 42,
   "metadata": {},
   "outputs": [
    {
     "name": "stdout",
     "output_type": "stream",
     "text": [
      "Downloading tweets...\n",
      "Saved 75\n",
      "Done. Output file generated \"output_got.csv\".\n"
     ]
    }
   ],
   "source": [
    "!GetOldTweets3 --querysearch \"corona virus\"--near \"Odense, Denmark\" --within 300km --maxtweets 100 --output \"corona_tweets.csv\""
   ]
  },
  {
   "cell_type": "code",
   "execution_count": 28,
   "metadata": {
    "scrolled": true
   },
   "outputs": [
    {
     "data": {
      "text/plain": [
       "'/Users/mathildemeiling/Documents/GitHub/DigiMethods'"
      ]
     },
     "execution_count": 28,
     "metadata": {},
     "output_type": "execute_result"
    }
   ],
   "source": [
    "# Figuring out where you're working at the moment\n",
    "import os \n",
    "\n",
    "os.getcwd()"
   ]
  },
  {
   "cell_type": "code",
   "execution_count": 40,
   "metadata": {},
   "outputs": [
    {
     "name": "stdout",
     "output_type": "stream",
     "text": [
      "Sådan forholder vi os til corona-virus i Brøndby Kommune Brøndby Kommune følger sundhedsmyndighedernes anvisninger nøje. Alle skoler, institutioner, plejehjem mv. fungerer som normalt. Læs her, hvordan vi forholder os til situationen. https://ift.tt/2T4M8ay\n"
     ]
    }
   ],
   "source": [
    "tweetCriteria = got.manager.TweetCriteria().setQuerySearch('corona virus')\\\n",
    "                                           .setNear ('Copenhagen, Denmark')\\\n",
    "                                           .setMaxTweets(10)\n",
    "tweet = got.manager.TweetManager.getTweets(tweetCriteria)[4]\n",
    "print(tweet.text)"
   ]
  },
  {
   "cell_type": "code",
   "execution_count": null,
   "metadata": {},
   "outputs": [],
   "source": [
    "# Easy way to convert to pandas and then csv\n",
    "\n",
    "# tw_dict = [te.__dict__ for tw in tweets]\n",
    "# tw_df = pd.DataFrame(tw_dicts)\n",
    "# tw_df.to_csv('')"
   ]
  },
  {
   "cell_type": "markdown",
   "metadata": {},
   "source": [
    "### 1.2 Non-tabular data"
   ]
  },
  {
   "cell_type": "markdown",
   "metadata": {},
   "source": [
    "> **Ex. 4** In Python, JSON is rendered as a `dict`-type object. `dict`s are key-value stores, much like \n",
    "dictionaries that map words between e.g. Danish and English: input a word in Danish (the key) and get the word\n",
    "in English (the value). In Python this operation is achieved by \"keying\" into a dictionary with code like\n",
    "`my_dict[the_key]`. JSON objects are, however, a step more complicated. How? Because values can themselves be\n",
    "dictionaries (or lists), thus nesting the data in a tree structure. In this exercise, you should \"key\" into `my_json_obj`\n",
    "below to access the list of useless cats."
   ]
  },
  {
   "cell_type": "code",
   "execution_count": 44,
   "metadata": {
    "ExecuteTime": {
     "end_time": "2020-02-28T08:41:12.291521Z",
     "start_time": "2020-02-28T08:41:12.288201Z"
    }
   },
   "outputs": [],
   "source": [
    "my_json_obj = {\n",
    "    'cats': {\n",
    "        'awesome': ['Missy'],\n",
    "        'useless': ['Kim', 'Frank', 'Sandy']\n",
    "    },\n",
    "    'dogs': {\n",
    "        'awesome': ['Finn', 'Dolores', 'Fido', 'Casper'],\n",
    "        'useless': []\n",
    "    }\n",
    "}"
   ]
  },
  {
   "cell_type": "code",
   "execution_count": 49,
   "metadata": {},
   "outputs": [
    {
     "data": {
      "text/plain": [
       "['Kim', 'Frank', 'Sandy']"
      ]
     },
     "execution_count": 49,
     "metadata": {},
     "output_type": "execute_result"
    }
   ],
   "source": [
    "my_json_obj['cats']['useless']"
   ]
  },
  {
   "cell_type": "markdown",
   "metadata": {},
   "source": [
    "> **Ex. 5**: Run the code snippet below to download frontpage of posts from the *[r/coronavirus](https://www.reddit.com/r/Coronavirus/)* subreddit in\n",
    "[json format](https://www.reddit.com/r/coronavirus.json). With pen and paper (or another illustration tool) draw a sketch that outlines the data\n",
    "as a tree (similar to example in lecture)."
   ]
  },
  {
   "cell_type": "code",
   "execution_count": 54,
   "metadata": {
    "ExecuteTime": {
     "end_time": "2020-02-28T08:25:29.145158Z",
     "start_time": "2020-02-28T08:25:28.519474Z"
    }
   },
   "outputs": [],
   "source": [
    "import requests as rq\n",
    "data = rq.get(\n",
    "    \"https://www.reddit.com/r/coronavirus.json\",    # link to the data\n",
    "    headers={'User-agent': 'digital_methods_2020'}  # a user agent that tells reddit who we are (good measure)\n",
    ").json()                                            # render the response from reddits server as JSON data"
   ]
  },
  {
   "cell_type": "markdown",
   "metadata": {},
   "source": [
    "> **Ex. 6** Similar to how you returned the list of useless cats in Ex. 4, now \"key\" into `data`\n",
    "to access a value that informs you this data is from the 'Coronavirus' subreddit."
   ]
  },
  {
   "cell_type": "code",
   "execution_count": 55,
   "metadata": {},
   "outputs": [
    {
     "data": {
      "text/plain": [
       "dict_keys(['kind', 'data'])"
      ]
     },
     "execution_count": 55,
     "metadata": {},
     "output_type": "execute_result"
    }
   ],
   "source": [
    "data.keys()"
   ]
  },
  {
   "cell_type": "code",
   "execution_count": 68,
   "metadata": {},
   "outputs": [
    {
     "data": {
      "text/plain": [
       "dict_keys(['modhash', 'dist', 'children', 'after', 'before'])"
      ]
     },
     "execution_count": 68,
     "metadata": {},
     "output_type": "execute_result"
    }
   ],
   "source": [
    "data['data'].keys()"
   ]
  },
  {
   "cell_type": "code",
   "execution_count": 114,
   "metadata": {},
   "outputs": [
    {
     "data": {
      "text/plain": [
       "'Coronavirus'"
      ]
     },
     "execution_count": 114,
     "metadata": {},
     "output_type": "execute_result"
    }
   ],
   "source": [
    "data['data']['children'][0]['data']['subreddit']"
   ]
  },
  {
   "cell_type": "code",
   "execution_count": null,
   "metadata": {},
   "outputs": [],
   "source": []
  }
 ],
 "metadata": {
  "display_name": "Python 3",
  "kernelspec": {
   "display_name": "Python 3",
   "language": "python",
   "name": "python3"
  },
  "language_info": {
   "codemirror_mode": {
    "name": "ipython",
    "version": 3
   },
   "file_extension": ".py",
   "mimetype": "text/x-python",
   "name": "python",
   "nbconvert_exporter": "python",
   "pygments_lexer": "ipython3",
   "version": "3.7.4"
  },
  "toc": {
   "base_numbering": 1,
   "nav_menu": {},
   "number_sections": false,
   "sideBar": true,
   "skip_h1_title": false,
   "title_cell": "Table of Contents",
   "title_sidebar": "Contents",
   "toc_cell": false,
   "toc_position": {},
   "toc_section_display": true,
   "toc_window_display": true
  },
  "varInspector": {
   "cols": {
    "lenName": 16,
    "lenType": 16,
    "lenVar": 40
   },
   "kernels_config": {
    "python": {
     "delete_cmd_postfix": "",
     "delete_cmd_prefix": "del ",
     "library": "var_list.py",
     "varRefreshCmd": "print(var_dic_list())"
    },
    "r": {
     "delete_cmd_postfix": ") ",
     "delete_cmd_prefix": "rm(",
     "library": "var_list.r",
     "varRefreshCmd": "cat(var_dic_list()) "
    }
   },
   "types_to_exclude": [
    "module",
    "function",
    "builtin_function_or_method",
    "instance",
    "_Feature"
   ],
   "window_display": false
  }
 },
 "nbformat": 4,
 "nbformat_minor": 1
}
